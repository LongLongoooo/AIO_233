{
  "nbformat": 4,
  "nbformat_minor": 0,
  "metadata": {
    "colab": {
      "provenance": []
    },
    "kernelspec": {
      "name": "python3",
      "display_name": "Python 3"
    },
    "language_info": {
      "name": "python"
    }
  },
  "cells": [
    {
      "cell_type": "code",
      "execution_count": null,
      "metadata": {
        "id": "xgNdl8YrRpmH"
      },
      "outputs": [],
      "source": [
        "import sys\n",
        "#1.Find Max in [k] partition\n",
        "def max_kernel(arr: list, k: int):\n",
        "    max = sys.minsize\n",
        "    list_of_Max =[]\n",
        "    for j in range(len(arr)):\n",
        "      if (j + k) > len(arr):\n",
        "          break\n",
        "      #start from arr[j] to arr[j + k], partition of [k] and find max in this partition\n",
        "      for i in range(j,(j + k),1):\n",
        "        if arr[i] > max:\n",
        "          max = arr[i]\n",
        "      list_of_Max.append(max)\n",
        "    return list_of_Max"
      ]
    },
    {
      "cell_type": "code",
      "source": [
        "num = [3, 4, 5, 1, -44 , 5 ,10, 12 ,33, 1]\n",
        "k = 3\n",
        "print(\"List_of_Max =\", max_kernel(num, k))"
      ],
      "metadata": {
        "colab": {
          "base_uri": "https://localhost:8080/"
        },
        "id": "J70jmnHOaFsG",
        "outputId": "1ac72194-df0f-4b67-aee7-36baefaf27ee"
      },
      "execution_count": null,
      "outputs": [
        {
          "output_type": "stream",
          "name": "stdout",
          "text": [
            "List_of_Max = [5, 5, 5, 5, 10, 12, 33, 33]\n"
          ]
        }
      ]
    },
    {
      "cell_type": "code",
      "source": [
        "assert max_kernel([3 , 4 , 5 , 1 , -44] , 3) == [5 , 5 , 5]\n",
        "num_list = [3 , 4 , 5 , 1 , -44 , 5 ,10 , 12 ,33 , 1]\n",
        "k = 3\n",
        "print(\"List_of_Max =\", max_kernel(num_list, k))"
      ],
      "metadata": {
        "colab": {
          "base_uri": "https://localhost:8080/"
        },
        "id": "E95M9smXfIqI",
        "outputId": "c644b383-57ca-4041-b380-e92eff043c0b"
      },
      "execution_count": null,
      "outputs": [
        {
          "output_type": "stream",
          "name": "stdout",
          "text": [
            "List_of_Max = [5, 5, 5, 5, 10, 12, 33, 33]\n"
          ]
        }
      ]
    },
    {
      "cell_type": "code",
      "source": [
        "#2. Count char\n",
        "def count_Char(string: str):\n",
        "  count_char = {}\n",
        "  for char in string:\n",
        "    if char in count_char:\n",
        "      count_char[char] += 1\n",
        "    else:\n",
        "      count_char[char] = 1\n",
        "  return count_char\n"
      ],
      "metadata": {
        "id": "J4VzWlALaY81"
      },
      "execution_count": null,
      "outputs": []
    },
    {
      "cell_type": "code",
      "source": [
        "seq = \"Happiness\"\n",
        "print(count_Char(seq))"
      ],
      "metadata": {
        "colab": {
          "base_uri": "https://localhost:8080/"
        },
        "id": "3ukhCMzXfhfY",
        "outputId": "2127a8e4-a573-4298-c18f-9c4c5ea76fb1"
      },
      "execution_count": null,
      "outputs": [
        {
          "output_type": "stream",
          "name": "stdout",
          "text": [
            "{'H': 1, 'a': 1, 'p': 2, 'i': 1, 'n': 1, 'e': 1, 's': 2}\n"
          ]
        }
      ]
    },
    {
      "cell_type": "code",
      "source": [
        "assert count_Char(\"Baby\") == {\"B\": 1, \"a\": 1, \"b\": 1, \"y\": 1}\n",
        "print ( count_Char(\"smiles\"))"
      ],
      "metadata": {
        "colab": {
          "base_uri": "https://localhost:8080/"
        },
        "id": "1Vb6S_9vgYMi",
        "outputId": "1b40473a-eec4-47bf-8d2d-252100a70b62"
      },
      "execution_count": null,
      "outputs": [
        {
          "output_type": "stream",
          "name": "stdout",
          "text": [
            "{'s': 2, 'm': 1, 'i': 1, 'l': 1, 'e': 1}\n"
          ]
        }
      ]
    },
    {
      "cell_type": "code",
      "source": [
        "!gdown https://drive.google.com/uc?id=1IBScGdW2xlNsc9v5zSAya548kNgiOrko"
      ],
      "metadata": {
        "colab": {
          "base_uri": "https://localhost:8080/"
        },
        "id": "spH2x4VIgpbq",
        "outputId": "0015d996-97f0-42be-a18c-856fdeb85b4e"
      },
      "execution_count": null,
      "outputs": [
        {
          "output_type": "stream",
          "name": "stdout",
          "text": [
            "Downloading...\n",
            "From: https://drive.google.com/uc?id=1IBScGdW2xlNsc9v5zSAya548kNgiOrko\n",
            "To: /content/P1_data.txt\n",
            "\r  0% 0.00/747 [00:00<?, ?B/s]\r100% 747/747 [00:00<00:00, 1.97MB/s]\n"
          ]
        }
      ]
    },
    {
      "cell_type": "code",
      "source": [
        "#3. Sort dictionary key by alphabetical order\n",
        "def sort_dict_by_key(d):\n",
        "    sorted_dict = {k: d[k] for k in sorted(d)}\n",
        "    return sorted_dict\n",
        "\n",
        "#count Word in File\n",
        "def count_Word_inFile(file_path):\n",
        "  #open file and read all content in file\n",
        "  try:\n",
        "    with open(file_path, \"r\") as file:\n",
        "      content = file.read()\n",
        "    file.close()\n",
        "  except FileNotFoundError:\n",
        "      return \"File not found.\"\n",
        "\n",
        "  #count char in file text\n",
        "  list_of_content = content.split()\n",
        "  count_Char = {}\n",
        "  for word in list_of_content:\n",
        "    if word in count_Char:\n",
        "      count_Char[word] += 1\n",
        "    else:\n",
        "      count_Char[word] = 1\n",
        "  return sort_dict_by_key(count_Char)\n",
        "\n"
      ],
      "metadata": {
        "id": "SqHeTGvBgvQB"
      },
      "execution_count": null,
      "outputs": []
    },
    {
      "cell_type": "code",
      "source": [
        "path = \"/content/P1_data.txt\"\n",
        "count_Word_inFile(path)"
      ],
      "metadata": {
        "id": "sMPko3cYml55"
      },
      "execution_count": null,
      "outputs": []
    },
    {
      "cell_type": "code",
      "source": [
        "def count_word(file_path):\n",
        "  counter = {}\n",
        "  with open(file_path, \"r\") as file:\n",
        "    content = file.read()\n",
        "  file.close()\n",
        "\n",
        "  list_of_content = content.split()\n",
        "  for word in list_of_content:\n",
        "    if word in counter:\n",
        "      counter[word] += 1\n",
        "    else:\n",
        "      counter[word] = 1\n",
        "  return counter"
      ],
      "metadata": {
        "id": "nB6GXfV9hjGT"
      },
      "execution_count": null,
      "outputs": []
    },
    {
      "cell_type": "code",
      "source": [
        "path = \"/content/P1_data.txt\"\n",
        "result = count_word(path)\n",
        "assert result[\"who\"] == 3\n",
        "print(result[\"man\"])"
      ],
      "metadata": {
        "colab": {
          "base_uri": "https://localhost:8080/"
        },
        "id": "euyzRx7sjCGE",
        "outputId": "732e4e18-7dc5-4ed0-acf0-220e795977ac"
      },
      "execution_count": null,
      "outputs": [
        {
          "output_type": "stream",
          "name": "stdout",
          "text": [
            "6\n"
          ]
        }
      ]
    },
    {
      "cell_type": "code",
      "source": [
        "#4. Levenshtein_distance\n",
        "import numpy as np\n",
        "def delete_cost(source: str):\n",
        "  return 1\n",
        "def insert_cost(target: str):\n",
        "  return 1\n",
        "def sub_cost(source: str, target: str):\n",
        "  if source == target:\n",
        "    return 0\n",
        "  return 1\n",
        "\n",
        "def Levenshtein_distance(source: str, target: str):\n",
        "  newsource = \"#\" + source\n",
        "  newtarget = \"#\" + target\n",
        "  M = len(newsource)\n",
        "  N = len(newtarget)\n",
        "\n",
        "  matrix = np.zeros((M,N))\n",
        "  for i in range(M):\n",
        "    for j in range(N):\n",
        "      if min(i, j) == 0:\n",
        "        matrix[i, j] = max(i, j)\n",
        "      else:\n",
        "        value1 = matrix[(i-1), j] + delete_cost(newsource[i]) # Use newsource for indexing\n",
        "        value2 = matrix[i, (j-1)] + insert_cost(newtarget[j]) # Use newtarget for indexing\n",
        "        value3 = matrix[(i-1), (j-1)] + sub_cost(newsource[i], newtarget[j]) # Use newsource and newtarget\n",
        "\n",
        "        matrix[i, j] = min(value1, value2, value3)\n",
        "\n",
        "  return matrix[M-1, N-1]"
      ],
      "metadata": {
        "id": "1Qd7pEF6m1AL"
      },
      "execution_count": null,
      "outputs": []
    },
    {
      "cell_type": "code",
      "source": [
        "source = \"you\"\n",
        "target = \"younger\"\n",
        "\n",
        "print(f\"Distance between {source} and {target} =\", Levenshtein_distance(source, target))"
      ],
      "metadata": {
        "colab": {
          "base_uri": "https://localhost:8080/"
        },
        "id": "8vcF3xxTebD1",
        "outputId": "71ac8e1e-4477-4066-a7b7-54299edd0b1c"
      },
      "execution_count": null,
      "outputs": [
        {
          "output_type": "stream",
          "name": "stdout",
          "text": [
            "Distance between you and younger = 4.0\n"
          ]
        }
      ]
    },
    {
      "cell_type": "code",
      "source": [
        "assert Levenshtein_distance(\"hi\", \"hello\") == 4.0\n",
        "print(Levenshtein_distance(\"hola\", \"hello\"))"
      ],
      "metadata": {
        "colab": {
          "base_uri": "https://localhost:8080/"
        },
        "id": "92Bhk80GkO2-",
        "outputId": "94198af2-9632-4ce5-8c77-632111de3bcc"
      },
      "execution_count": null,
      "outputs": [
        {
          "output_type": "stream",
          "name": "stdout",
          "text": [
            "3.0\n"
          ]
        }
      ]
    },
    {
      "cell_type": "code",
      "source": [
        "# Q5\n",
        "def check_the_number(N):\n",
        "  list_of_numbers = []\n",
        "  result = \" \"\n",
        "  for i in range(1, 5):\n",
        "    list_of_numbers.append(i)\n",
        "  if N in list_of_numbers:\n",
        "    result = \"True\"\n",
        "  else:\n",
        "    result = \"False\"\n",
        "  return result\n",
        "\n",
        "N1 = 7\n",
        "assert check_the_number(N1) == \"False\"\n",
        "\n",
        "N2 = 2\n",
        "rs = check_the_number(N2)\n",
        "print(rs)"
      ],
      "metadata": {
        "colab": {
          "base_uri": "https://localhost:8080/"
        },
        "id": "sKby_L6Ok73x",
        "outputId": "b16b2b97-d4b2-4629-84e0-5998f61d97fe"
      },
      "execution_count": null,
      "outputs": [
        {
          "output_type": "stream",
          "name": "stdout",
          "text": [
            "True\n"
          ]
        }
      ]
    },
    {
      "cell_type": "code",
      "source": [
        "# Q6\n",
        "def my_function(data, max, min):\n",
        "  result = []\n",
        "  for i in data:\n",
        "    if i < min:\n",
        "      result.append(min)\n",
        "    elif i > max:\n",
        "      result.append(max)\n",
        "    else:\n",
        "      result.append(i)\n",
        "  return result\n",
        "\n",
        "my_list = [5, 2, 5, 0, 1]\n",
        "max = 1\n",
        "min = 0\n",
        "assert my_function (max = max , min = min , data = my_list ) == [1, 1, 1, 0, 1]\n",
        "my_list = [10 , 2, 5, 0, 1]\n",
        "max = 2\n",
        "min = 1\n",
        "print ( my_function (max = max , min = min , data = my_list ))\n"
      ],
      "metadata": {
        "colab": {
          "base_uri": "https://localhost:8080/"
        },
        "id": "IhlD645On2Wp",
        "outputId": "aaf554cd-f06e-4603-936a-c406adaa6567"
      },
      "execution_count": null,
      "outputs": [
        {
          "output_type": "stream",
          "name": "stdout",
          "text": [
            "[2, 2, 2, 1, 1]\n"
          ]
        }
      ]
    },
    {
      "cell_type": "code",
      "source": [
        "# Q7\n",
        "def my_function(x, y):\n",
        "  result = []\n",
        "  result = x + y\n",
        "  return result\n",
        "\n",
        "\n",
        "list_num1 = [\"a\", 2, 5]\n",
        "list_num2 = [1, 1]\n",
        "list_num3 = [0, 0]\n",
        "assert my_function ( list_num1 , my_function ( list_num2 , list_num3 )) == [\"a\", 2, 5, 1, 1, 0, 0]\n",
        "list_num1 = [1, 2]\n",
        "list_num2 = [3, 4]\n",
        "list_num3 = [0, 0]\n",
        "print ( my_function ( list_num1 , my_function ( list_num2 , list_num3 )))"
      ],
      "metadata": {
        "colab": {
          "base_uri": "https://localhost:8080/"
        },
        "id": "1FJ3LfmDKTma",
        "outputId": "48389c55-85b6-4b3f-ae4b-b48a31180bea"
      },
      "execution_count": null,
      "outputs": [
        {
          "output_type": "stream",
          "name": "stdout",
          "text": [
            "[1, 2, 3, 4, 0, 0]\n"
          ]
        }
      ]
    },
    {
      "cell_type": "code",
      "source": [
        "# Q8\n",
        "import sys\n",
        "def my_function(n):\n",
        "  min = sys.maxsize\n",
        "  for i in n:\n",
        "    if min > i:\n",
        "      min = i\n",
        "  return min\n",
        "\n",
        "\n",
        "my_list = [1, 22, 93, -100]\n",
        "assert my_function ( my_list ) == -100\n",
        "my_list = [1, 2, 3, -1]\n",
        "print ( my_function ( my_list ))\n"
      ],
      "metadata": {
        "colab": {
          "base_uri": "https://localhost:8080/"
        },
        "id": "2N_jeCi5MsmQ",
        "outputId": "da6a11c1-0ba2-460b-c915-bf6314d18453"
      },
      "execution_count": null,
      "outputs": [
        {
          "output_type": "stream",
          "name": "stdout",
          "text": [
            "-1\n"
          ]
        }
      ]
    },
    {
      "cell_type": "code",
      "source": [
        "# Q9\n",
        "import sys\n",
        "def my_function(n):\n",
        "  max = -sys.maxsize - 1\n",
        "  for i in n:\n",
        "    if max < i:\n",
        "      max = i\n",
        "  return max\n",
        "\n",
        "my_list = [1001 , 9, 100 , 0]\n",
        "assert my_function ( my_list ) == 1001\n",
        "\n",
        "my_list = [1, 9, 9, 0]\n",
        "print ( my_function ( my_list ))"
      ],
      "metadata": {
        "colab": {
          "base_uri": "https://localhost:8080/"
        },
        "id": "ExzyzyetPrdd",
        "outputId": "e7c23f44-fdf3-4728-d43f-fee1769ab016"
      },
      "execution_count": null,
      "outputs": [
        {
          "output_type": "stream",
          "name": "stdout",
          "text": [
            "9\n"
          ]
        }
      ]
    },
    {
      "cell_type": "code",
      "source": [
        "# Q10\n",
        "def My_function(my_list: list, number = 1):\n",
        "  check_list = []\n",
        "  for i in my_list:\n",
        "    if number == i:\n",
        "      check_list.append(True)\n",
        "    else:\n",
        "      check_list.append(False)\n",
        "  boolean_dict = dict(zip(my_list, check_list))\n",
        "  # Handle the case where 'number' might not be in the dictionary\n",
        "  return boolean_dict.get(number, False)\n",
        "\n",
        "\n",
        "my_list = [1, 3, 9, 4]\n",
        "assert My_function ( my_list , -1) == False\n",
        "\n",
        "my_list = [1, 2, 3, 4]\n",
        "print ( My_function ( my_list , 2))\n"
      ],
      "metadata": {
        "colab": {
          "base_uri": "https://localhost:8080/"
        },
        "id": "kiXYiOHNSzk1",
        "outputId": "39bc04e4-8202-4fde-81d0-a94a87d99491"
      },
      "execution_count": null,
      "outputs": [
        {
          "output_type": "stream",
          "name": "stdout",
          "text": [
            "True\n"
          ]
        }
      ]
    },
    {
      "cell_type": "code",
      "source": [
        "# Q11\n",
        "def my_function(list_nums = [0,1,2]):\n",
        "  var = 0\n",
        "  for i in list_nums:\n",
        "    var += i\n",
        "  return var/len(list_nums)\n",
        "assert my_function ([4 , 6, 8]) == 6\n",
        "print ( my_function ())"
      ],
      "metadata": {
        "colab": {
          "base_uri": "https://localhost:8080/"
        },
        "id": "8bcKrY7QW0lP",
        "outputId": "9bd95406-5cdf-4c25-debf-ec1e1e0462b6"
      },
      "execution_count": null,
      "outputs": [
        {
          "output_type": "stream",
          "name": "stdout",
          "text": [
            "1.0\n"
          ]
        }
      ]
    },
    {
      "cell_type": "code",
      "source": [
        "# Q12\n",
        "def my_function(data):\n",
        "  var = [i for i in data if i % 3 == 0]\n",
        "  return var\n",
        "\n",
        "assert my_function ([3 , 9, 4, 5]) == [3, 9]\n",
        "print ( my_function ([1 , 2, 3, 5, 6]))"
      ],
      "metadata": {
        "colab": {
          "base_uri": "https://localhost:8080/"
        },
        "id": "KExXRFlYbCbH",
        "outputId": "5cc36068-e349-4541-e236-424b77bd2bf5"
      },
      "execution_count": null,
      "outputs": [
        {
          "output_type": "stream",
          "name": "stdout",
          "text": [
            "[3, 6]\n"
          ]
        }
      ]
    },
    {
      "cell_type": "code",
      "source": [
        "# Q13\n",
        "def factorial(y):\n",
        "  var = 1\n",
        "  while(y > 1):\n",
        "    var = var * y\n",
        "    y -= 1\n",
        "  return var\n",
        "\n",
        "assert factorial (8) == 40320\n",
        "print ( factorial (4))"
      ],
      "metadata": {
        "colab": {
          "base_uri": "https://localhost:8080/"
        },
        "id": "iYeCqfmWcFeD",
        "outputId": "2d590ad0-58ec-4fb5-8936-5ebfea5be1c6"
      },
      "execution_count": null,
      "outputs": [
        {
          "output_type": "stream",
          "name": "stdout",
          "text": [
            "24\n"
          ]
        }
      ]
    },
    {
      "cell_type": "code",
      "source": [
        "# Q14\n",
        "def reverse_string(x: str):\n",
        "  char_dict = {}\n",
        "  reverse_list = []\n",
        "  index = 0\n",
        "  for word in x:\n",
        "    char = word.split()\n",
        "    char_dict[index] = char\n",
        "    index += 1\n",
        "\n",
        "  # consider the list in reverse order\n",
        "  for i in range(len(char_dict) -1, -1 , -1):\n",
        "    # make every char in dictionary be a string element\n",
        "    reverse_list.append(\"\".join(char_dict[i]))\n",
        "\n",
        "  reversed_string_result = \" \".join(reverse_list)\n",
        "  return reversed_string_result\n",
        "\n",
        "y = \"I can do it\"\n",
        "assert reverse_string(y)== \"t i  o d  n a c  I\"\n",
        "x = \"apricot\"\n",
        "# Call the function with the corrected variable name\n",
        "print(reverse_string(x))"
      ],
      "metadata": {
        "colab": {
          "base_uri": "https://localhost:8080/"
        },
        "id": "Aq_goAGjcyU6",
        "outputId": "96b7df3a-af58-4339-be65-ee9dc6dfab12"
      },
      "execution_count": null,
      "outputs": [
        {
          "output_type": "stream",
          "name": "stdout",
          "text": [
            "t o c i r p a\n"
          ]
        }
      ]
    },
    {
      "cell_type": "code",
      "source": [
        "help(\"\".join)\n"
      ],
      "metadata": {
        "colab": {
          "base_uri": "https://localhost:8080/"
        },
        "id": "q_rUDrv6qgEe",
        "outputId": "ce7296c7-f3ae-4b52-a1fe-0c68cf27bcf8"
      },
      "execution_count": null,
      "outputs": [
        {
          "output_type": "stream",
          "name": "stdout",
          "text": [
            "Help on built-in function join:\n",
            "\n",
            "join(iterable, /) method of builtins.str instance\n",
            "    Concatenate any number of strings.\n",
            "    \n",
            "    The string whose method is called is inserted in between each given string.\n",
            "    The result is returned as a new string.\n",
            "    \n",
            "    Example: '.'.join(['ab', 'pq', 'rs']) -> 'ab.pq.rs'\n",
            "\n"
          ]
        }
      ]
    },
    {
      "cell_type": "code",
      "source": [
        "# Q15\n",
        "def function_helper(x):\n",
        "  if x > 0:\n",
        "    return \"T\"\n",
        "  else:\n",
        "    return \"N\"\n",
        "def my_function(data):\n",
        "  res = [ function_helper (x) for x in data ]\n",
        "  return res\n",
        "data = [10 , 0, -10, -1]\n",
        "assert my_function ( data ) == [\"T\", \"N\", \"N\", \"N\"]\n",
        "\n",
        "data = [2, 3, 5, -1]\n",
        "print ( my_function ( data ))"
      ],
      "metadata": {
        "colab": {
          "base_uri": "https://localhost:8080/"
        },
        "id": "19pqVkIi4JRV",
        "outputId": "c099b2b1-99b9-45c5-aef2-08bd3b8b998e"
      },
      "execution_count": null,
      "outputs": [
        {
          "output_type": "stream",
          "name": "stdout",
          "text": [
            "['T', 'T', 'T', 'N']\n"
          ]
        }
      ]
    },
    {
      "cell_type": "code",
      "source": [
        "def function_helper(x, data):\n",
        "  for i in data:\n",
        "    if x == i:\n",
        "      return 0\n",
        "  return 1\n",
        "def my_function(data):\n",
        "  res = []\n",
        "  for i in data:\n",
        "    if function_helper(i, res):\n",
        "      res.append(i)\n",
        "\n",
        "  return res\n",
        "\n",
        "lst = [10 , 10, 9, 7, 7]\n",
        "assert my_function (lst) ==[10 , 9, 7]\n",
        "\n",
        "lst = [9, 9, 8, 1, 1]\n",
        "print ( my_function (lst))"
      ],
      "metadata": {
        "colab": {
          "base_uri": "https://localhost:8080/"
        },
        "id": "ffeno4P67Mp4",
        "outputId": "66d967dd-3483-49bc-dc76-281af6451920"
      },
      "execution_count": null,
      "outputs": [
        {
          "output_type": "stream",
          "name": "stdout",
          "text": [
            "[9, 8, 1]\n"
          ]
        }
      ]
    }
  ]
}
