{
  "nbformat": 4,
  "nbformat_minor": 0,
  "metadata": {
    "colab": {
      "provenance": [],
      "mount_file_id": "1lC2HY6AZzxYJntvs_VUWCSHDi9OHEeuO",
      "authorship_tag": "ABX9TyN9s2yWZIDhiNpL+CPqBeC8",
      "include_colab_link": true
    },
    "kernelspec": {
      "name": "python3",
      "display_name": "Python 3"
    },
    "language_info": {
      "name": "python"
    }
  },
  "cells": [
    {
      "cell_type": "markdown",
      "metadata": {
        "id": "view-in-github",
        "colab_type": "text"
      },
      "source": [
        "<a href=\"https://colab.research.google.com/github/LongLongoooo/AIO_233/blob/main/Exercise_1.ipynb\" target=\"_parent\"><img src=\"https://colab.research.google.com/assets/colab-badge.svg\" alt=\"Open In Colab\"/></a>"
      ]
    },
    {
      "cell_type": "code",
      "execution_count": 5,
      "metadata": {
        "id": "xCSRwCyCY5Aj"
      },
      "outputs": [],
      "source": [
        "#1. Write function to classify by using F1-score\n",
        "import math\n",
        "class Classification:\n",
        "  def __init__(self, tp: int, fp: int, fn: int) -> True:\n",
        "      if not isinstance(tp, int) or tp <= 0:\n",
        "          raise TypeError(f\"Expected a positive int for parameter 'tp', got {type(tp).__name__} with value {tp}\")\n",
        "      if not isinstance(fp, int) or fp <= 0:\n",
        "            raise TypeError(f\"Expected a positive int for parameter 'fp', got {type(fp).__name__} with value {fp}\")\n",
        "      if not isinstance(fn, int) or fn <= 0:\n",
        "            raise TypeError(f\"Expected a positive int for parameter 'fn', got {type(fn).__name__} with value {fn}\")\n",
        "      self.tp = tp\n",
        "      self.fp = fp\n",
        "      self.fn = fn\n",
        "\n",
        "\n",
        "  def precision(self):\n",
        "    if self.tp + self.fp == 0:\n",
        "        return 0\n",
        "    precision = (self.tp)/(self.tp + self.fp)\n",
        "    return precision\n",
        "\n",
        "  def recall(self):\n",
        "    if self.tp + self.fn == 0:\n",
        "        return 0\n",
        "    recall = (self.tp)/(self.tp + self.fn)\n",
        "    return recall\n",
        "\n",
        "  def F1_score(self):\n",
        "    if self.precision() + self.recall() == 0:\n",
        "        return 0\n",
        "    f1_score = (2*self.precision()*self.recall())/(self.precision() + self.recall())\n",
        "    return f1_score\n",
        "\n",
        "\n"
      ]
    },
    {
      "cell_type": "code",
      "source": [
        "model = Classification(tp = 2, fp = 3, fn = 5)\n",
        "print(\"Precision = \", model.precision())\n",
        "print(\"Recall = \", model.recall())\n",
        "print(\"F1-score = \", model.F1_score())"
      ],
      "metadata": {
        "id": "1FzY8kGXjzA4",
        "outputId": "50c64c83-38b1-4e0c-90a7-47cd37b4cb82",
        "colab": {
          "base_uri": "https://localhost:8080/"
        }
      },
      "execution_count": 15,
      "outputs": [
        {
          "output_type": "stream",
          "name": "stdout",
          "text": [
            "Precision =  0.4\n",
            "Recall =  0.3333333333333333\n",
            "F1-score =  0.3636363636363636\n"
          ]
        }
      ]
    },
    {
      "cell_type": "code",
      "source": [
        "import math\n",
        "assert round(Classification(tp = 2, fp = 3, fn = 5).F1_score(), 2) == 0.33\n",
        "print(round(Classification(tp = 2, fp = 4, fn = 5).F1_score(), 2))"
      ],
      "metadata": {
        "id": "tpdu4v0GG9cO",
        "outputId": "af33e583-44da-4e04-d8d6-2558537431ef",
        "colab": {
          "base_uri": "https://localhost:8080/"
        }
      },
      "execution_count": 12,
      "outputs": [
        {
          "output_type": "stream",
          "name": "stdout",
          "text": [
            "0.31\n"
          ]
        }
      ]
    },
    {
      "cell_type": "code",
      "source": [
        "error = Classification(tp = \"a\", fp = 3, fn = 4)\n",
        "print(\"Precision = \", error.precision())\n",
        "print(\"Recall = \", error.recall())\n",
        "print(\"F1-score = \", error.F1_score())"
      ],
      "metadata": {
        "id": "wOHwZmdDoi_Q",
        "outputId": "ad2f7324-091e-404a-d7b1-1177eebc6709",
        "colab": {
          "base_uri": "https://localhost:8080/",
          "height": 349
        }
      },
      "execution_count": 17,
      "outputs": [
        {
          "output_type": "error",
          "ename": "TypeError",
          "evalue": "Expected a positive int for parameter 'tp', got str with value a",
          "traceback": [
            "\u001b[0;31m---------------------------------------------------------------------------\u001b[0m",
            "\u001b[0;31mTypeError\u001b[0m                                 Traceback (most recent call last)",
            "\u001b[0;32m<ipython-input-17-5bced5ddb38f>\u001b[0m in \u001b[0;36m<cell line: 1>\u001b[0;34m()\u001b[0m\n\u001b[0;32m----> 1\u001b[0;31m \u001b[0merror\u001b[0m \u001b[0;34m=\u001b[0m \u001b[0mClassification\u001b[0m\u001b[0;34m(\u001b[0m\u001b[0mtp\u001b[0m \u001b[0;34m=\u001b[0m \u001b[0;34m\"a\"\u001b[0m\u001b[0;34m,\u001b[0m \u001b[0mfp\u001b[0m \u001b[0;34m=\u001b[0m \u001b[0;36m3\u001b[0m\u001b[0;34m,\u001b[0m \u001b[0mfn\u001b[0m \u001b[0;34m=\u001b[0m \u001b[0;36m4\u001b[0m\u001b[0;34m)\u001b[0m\u001b[0;34m\u001b[0m\u001b[0;34m\u001b[0m\u001b[0m\n\u001b[0m\u001b[1;32m      2\u001b[0m \u001b[0mprint\u001b[0m\u001b[0;34m(\u001b[0m\u001b[0;34m\"Precision = \"\u001b[0m\u001b[0;34m,\u001b[0m \u001b[0merror\u001b[0m\u001b[0;34m.\u001b[0m\u001b[0mprecision\u001b[0m\u001b[0;34m(\u001b[0m\u001b[0;34m)\u001b[0m\u001b[0;34m)\u001b[0m\u001b[0;34m\u001b[0m\u001b[0;34m\u001b[0m\u001b[0m\n\u001b[1;32m      3\u001b[0m \u001b[0mprint\u001b[0m\u001b[0;34m(\u001b[0m\u001b[0;34m\"Recall = \"\u001b[0m\u001b[0;34m,\u001b[0m \u001b[0merror\u001b[0m\u001b[0;34m.\u001b[0m\u001b[0mrecall\u001b[0m\u001b[0;34m(\u001b[0m\u001b[0;34m)\u001b[0m\u001b[0;34m)\u001b[0m\u001b[0;34m\u001b[0m\u001b[0;34m\u001b[0m\u001b[0m\n\u001b[1;32m      4\u001b[0m \u001b[0mprint\u001b[0m\u001b[0;34m(\u001b[0m\u001b[0;34m\"F1-score = \"\u001b[0m\u001b[0;34m,\u001b[0m \u001b[0merror\u001b[0m\u001b[0;34m.\u001b[0m\u001b[0mF1_score\u001b[0m\u001b[0;34m(\u001b[0m\u001b[0;34m)\u001b[0m\u001b[0;34m)\u001b[0m\u001b[0;34m\u001b[0m\u001b[0;34m\u001b[0m\u001b[0m\n",
            "\u001b[0;32m<ipython-input-16-6c7459391bc3>\u001b[0m in \u001b[0;36m__init__\u001b[0;34m(self, tp, fp, fn)\u001b[0m\n\u001b[1;32m      4\u001b[0m   \u001b[0;32mdef\u001b[0m \u001b[0m__init__\u001b[0m\u001b[0;34m(\u001b[0m\u001b[0mself\u001b[0m\u001b[0;34m,\u001b[0m \u001b[0mtp\u001b[0m\u001b[0;34m:\u001b[0m \u001b[0mint\u001b[0m\u001b[0;34m,\u001b[0m \u001b[0mfp\u001b[0m\u001b[0;34m:\u001b[0m \u001b[0mint\u001b[0m\u001b[0;34m,\u001b[0m \u001b[0mfn\u001b[0m\u001b[0;34m:\u001b[0m \u001b[0mint\u001b[0m\u001b[0;34m)\u001b[0m \u001b[0;34m->\u001b[0m \u001b[0;32mTrue\u001b[0m\u001b[0;34m:\u001b[0m\u001b[0;34m\u001b[0m\u001b[0;34m\u001b[0m\u001b[0m\n\u001b[1;32m      5\u001b[0m       \u001b[0;32mif\u001b[0m \u001b[0;32mnot\u001b[0m \u001b[0misinstance\u001b[0m\u001b[0;34m(\u001b[0m\u001b[0mtp\u001b[0m\u001b[0;34m,\u001b[0m \u001b[0mint\u001b[0m\u001b[0;34m)\u001b[0m \u001b[0;32mor\u001b[0m \u001b[0mtp\u001b[0m \u001b[0;34m<=\u001b[0m \u001b[0;36m0\u001b[0m\u001b[0;34m:\u001b[0m\u001b[0;34m\u001b[0m\u001b[0;34m\u001b[0m\u001b[0m\n\u001b[0;32m----> 6\u001b[0;31m           \u001b[0;32mraise\u001b[0m \u001b[0mTypeError\u001b[0m\u001b[0;34m(\u001b[0m\u001b[0;34mf\"Expected a positive int for parameter 'tp', got {type(tp).__name__} with value {tp}\"\u001b[0m\u001b[0;34m)\u001b[0m\u001b[0;34m\u001b[0m\u001b[0;34m\u001b[0m\u001b[0m\n\u001b[0m\u001b[1;32m      7\u001b[0m       \u001b[0;32mif\u001b[0m \u001b[0;32mnot\u001b[0m \u001b[0misinstance\u001b[0m\u001b[0;34m(\u001b[0m\u001b[0mfp\u001b[0m\u001b[0;34m,\u001b[0m \u001b[0mint\u001b[0m\u001b[0;34m)\u001b[0m \u001b[0;32mor\u001b[0m \u001b[0mfp\u001b[0m \u001b[0;34m<=\u001b[0m \u001b[0;36m0\u001b[0m\u001b[0;34m:\u001b[0m\u001b[0;34m\u001b[0m\u001b[0;34m\u001b[0m\u001b[0m\n\u001b[1;32m      8\u001b[0m             \u001b[0;32mraise\u001b[0m \u001b[0mTypeError\u001b[0m\u001b[0;34m(\u001b[0m\u001b[0;34mf\"Expected a positive int for parameter 'fp', got {type(fp).__name__} with value {fp}\"\u001b[0m\u001b[0;34m)\u001b[0m\u001b[0;34m\u001b[0m\u001b[0;34m\u001b[0m\u001b[0m\n",
            "\u001b[0;31mTypeError\u001b[0m: Expected a positive int for parameter 'tp', got str with value a"
          ]
        }
      ]
    },
    {
      "cell_type": "code",
      "source": [
        "#2 Activation functions\n",
        "import math\n",
        "import random as rd\n",
        "def is_Number(x):\n",
        "    try:\n",
        "      float(x)\n",
        "    except ValueError:\n",
        "      return False\n",
        "    return True\n",
        "class Activation_functions:\n",
        "  def __init__(self, x):\n",
        "    if not is_Number(x):\n",
        "      raise TypeError(f\"Expected a positive float for parameter 'x', got {type(x).__name__} with value {x}\")\n",
        "    self.x = x\n",
        "\n",
        "  def sigmoid(self):\n",
        "    return 1/(1 + math.exp(-(self.x)))\n",
        "\n",
        "  def relu(self):\n",
        "    if self.x <= 0.0:\n",
        "      return 0\n",
        "    elif self.x > 0.0:\n",
        "      return self.x\n",
        "\n",
        "  def elu(self, alpha: int):\n",
        "    if self.x <= 0.0:\n",
        "      return alpha*(math.exp(self.x) - 1)\n",
        "    elif self.x > 0.0:\n",
        "      return self.x\n",
        "\n",
        "\n"
      ],
      "metadata": {
        "id": "QqxVJjgcosp9"
      },
      "execution_count": 1,
      "outputs": []
    },
    {
      "cell_type": "code",
      "source": [
        "# Check that if the ouput of this function with the round value have 2 decimals after . equal to 0.95 or not\n",
        "assert round(Activation_functions(x = 3).sigmoid(), 2) == 0.95\n",
        "print(round(Activation_functions(x = 2).sigmoid(), 2))\n"
      ],
      "metadata": {
        "id": "k_jXk_v7QTAe",
        "outputId": "ff92b238-64af-43b2-f2bc-b77bf867aa9f",
        "colab": {
          "base_uri": "https://localhost:8080/"
        }
      },
      "execution_count": 22,
      "outputs": [
        {
          "output_type": "stream",
          "name": "stdout",
          "text": [
            "0.88\n"
          ]
        }
      ]
    },
    {
      "cell_type": "code",
      "source": [
        "assert round(Activation_functions(x = 1).elu(0.01)) == 1\n",
        "print(round(Activation_functions(x = -1).elu(0.01), 2))"
      ],
      "metadata": {
        "id": "H3BuNTbhQ7J4",
        "outputId": "8b783023-1f83-4e20-f119-283b823ea95b",
        "colab": {
          "base_uri": "https://localhost:8080/"
        }
      },
      "execution_count": 24,
      "outputs": [
        {
          "output_type": "stream",
          "name": "stdout",
          "text": [
            "-0.01\n"
          ]
        }
      ]
    },
    {
      "cell_type": "code",
      "source": [
        "assert round(Activation_functions(x = 1).relu()) == 1\n",
        "print(round(Activation_functions(x = 3).sigmoid(), 2))"
      ],
      "metadata": {
        "id": "Zp7h3IsHsk_U",
        "outputId": "61065c43-72c2-4665-c20c-fbec4f201387",
        "colab": {
          "base_uri": "https://localhost:8080/"
        }
      },
      "execution_count": 2,
      "outputs": [
        {
          "output_type": "stream",
          "name": "stdout",
          "text": [
            "0.95\n"
          ]
        }
      ]
    },
    {
      "cell_type": "code",
      "source": [
        "x = float(input(\"x= \"))\n",
        "func = Activation_functions(x)\n",
        "function = input(\"Input activation Function ( sigmoid | relu |elu ): \")\n",
        "\n",
        "if function == \"sigmoid\":\n",
        "  print(f\"{function} : f ({x}) = \",func.sigmoid())\n",
        "elif function == \"relu\":\n",
        "  print(f\"{function} : f ({x}) = \",func.relu())\n",
        "elif function == \"elu\":\n",
        "  alpha = rd.randint(-100, 100)\n",
        "  print(f\"{function} : f ({x}) = \",func.elu(alpha))\n",
        "else:\n",
        "  print(f\"{function} is not supported\")\n",
        "\n"
      ],
      "metadata": {
        "id": "8WKLTR181kki",
        "outputId": "f68119bc-188c-48f2-e409-345f8b45a8b3",
        "colab": {
          "base_uri": "https://localhost:8080/"
        }
      },
      "execution_count": 3,
      "outputs": [
        {
          "output_type": "stream",
          "name": "stdout",
          "text": [
            "x= 1.5\n",
            "Input activation Function ( sigmoid | relu |elu ): sigmoid\n",
            "sigmoid : f (1.5) =  0.8175744761936437\n"
          ]
        }
      ]
    },
    {
      "cell_type": "code",
      "source": [
        "#3 Regression loss functions\n",
        "import math\n",
        "import random as rd\n",
        "class Loss_function:\n",
        "  def __init__(self, samples, target: float, predict: float):\n",
        "    if not isinstance(samples, int) or samples <= 0:\n",
        "          raise TypeError(f\"Expected a positive integer for parameter 'samples', got {type(samples).__name__} with value {samples}\")\n",
        "    if len(target) != samples or len(predict) != samples:\n",
        "          raise ValueError(f\"The length of 'target' and 'predict' lists must be equal to 'samples'\")\n",
        "    self.samples = samples\n",
        "    self.target = target\n",
        "    self.predict = predict\n",
        "  def MAE(self):\n",
        "    sum = 0\n",
        "    for sample in range(self.samples):\n",
        "      sum += (abs(self.target[sample] - self.predict[sample]))\n",
        "    return (1/self.samples)/sum\n",
        "\n",
        "  def MSE(self):\n",
        "    sum = 0\n",
        "    for sample in range(self.samples):\n",
        "      sum += math.pow((self.target[sample] - self.predict[sample]),2)\n",
        "    return (1/self.samples)/sum\n",
        "\n",
        "  def RMSE(self):\n",
        "    sum = 0\n",
        "    for sample in range(self.samples):\n",
        "      sum += math.pow((self.target[sample] - self.predict[sample]),2)\n",
        "    return math.sqrt((1/self.samples)/sum)\n",
        "\n"
      ],
      "metadata": {
        "id": "KwwSWVQm1k80"
      },
      "execution_count": 36,
      "outputs": []
    },
    {
      "cell_type": "code",
      "source": [
        "import numpy as np\n",
        "samples = int(input(\"Input number of samples ( integer number ) which are generated : \"))\n",
        "loss_name = str(input(\" Input loss name : \"))\n",
        "target = np.random.uniform(0, 10, samples)\n",
        "predict = np.random.uniform(0, 10, samples)\n",
        "if loss_name == \"MAE\":\n",
        "  print(f\"{loss_name} : \", Loss_function(samples, target, predict).MAE())\n",
        "elif loss_name == \"MSE\":\n",
        "  print(f\"{loss_name} : \", Loss_function(samples, target, predict).MSE())\n",
        "elif loss_name == \"RMSE\":\n",
        "  print(f\"{loss_name} : \", Loss_function(samples, target, predict).RMSE())\n",
        "else:\n",
        "  print(f\"{loss_name} is not supported\")"
      ],
      "metadata": {
        "id": "gLIUgiyKeohP",
        "outputId": "91c14ea4-cb36-46a6-8ee9-7315e6de36dd",
        "colab": {
          "base_uri": "https://localhost:8080/"
        }
      },
      "execution_count": 38,
      "outputs": [
        {
          "output_type": "stream",
          "name": "stdout",
          "text": [
            "Input number of samples ( integer number ) which are generated : 10000\n",
            " Input loss name : RMSE\n",
            "RMSE :  2.4585621703294032e-05\n"
          ]
        }
      ]
    },
    {
      "cell_type": "code",
      "source": [
        "rd.uniform(0, 10)"
      ],
      "metadata": {
        "id": "rZh_3ghZgIug",
        "outputId": "2691aaaf-20da-4299-e5e1-cb7ccfc87dcc",
        "colab": {
          "base_uri": "https://localhost:8080/"
        }
      },
      "execution_count": 13,
      "outputs": [
        {
          "output_type": "execute_result",
          "data": {
            "text/plain": [
              "8.454321228670214"
            ]
          },
          "metadata": {},
          "execution_count": 13
        }
      ]
    },
    {
      "cell_type": "code",
      "source": [
        "help(rd)"
      ],
      "metadata": {
        "id": "wDuWpnzndeNp"
      },
      "execution_count": null,
      "outputs": []
    },
    {
      "cell_type": "code",
      "source": [
        "sum = math.sum()"
      ],
      "metadata": {
        "id": "aZEuRwGKZWkT"
      },
      "execution_count": null,
      "outputs": []
    },
    {
      "cell_type": "code",
      "source": [
        "#3 Radian functions\n",
        "import math\n",
        "class Radian:\n",
        "  def __init__(self, x: float, n: int):\n",
        "    if not isinstance(x, float):\n",
        "      raise TypeError(f\"Expected a positive float for parameter 'x', got {type(x).__name__} with value {x}\")\n",
        "    elif not isinstance(n, int):\n",
        "      raise TypeError(f\"Expected a positive int for parameter 'n', got {type(n).__name__} with value {n}\")\n",
        "    self.x = x\n",
        "    self.n = n\n",
        "\n",
        "  def approx_sin(self):\n",
        "    sum = 0\n",
        "    for i in range(self.n):\n",
        "      sum += ((-1)**(i))*(math.pow(self.x, (2*i + 1))/math.factorial(2*i + 1))\n",
        "    return sum\n",
        "\n",
        "  def approx_cos(self):\n",
        "    sum = 0\n",
        "    for i in range(self.n):\n",
        "      sum += ((-1)**(i))*(math.pow(self.x, (2*i))/math.factorial(2*i))\n",
        "    return sum\n",
        "  def approx_sinh(self):\n",
        "    sum = 0\n",
        "    for i in range(self.n):\n",
        "      sum += (math.pow(self.x, (2*i + 1))/math.factorial(2*i + 1))\n",
        "    return sum\n",
        "\n",
        "  def approx_cosh(self):\n",
        "    sum = 0\n",
        "    for i in range(self.n):\n",
        "      sum += (math.pow(self.x, (2*i))/math.factorial(2*i))\n",
        "    return sum\n",
        "\n",
        "print(\"Sin(x) = \", Radian(x = 3.14, n = 10).approx_sin())\n",
        "print(\"Cos(x) = \", Radian(x = 3.14, n = 10).approx_cos())\n",
        "print(\"Sinh(x) = \", Radian(x = 3.14, n = 10).approx_sinh())\n",
        "print(\"Cosh(x) = \", Radian(x = 3.14, n = 10).approx_cosh())\n",
        "\n",
        ""
      ],
      "metadata": {
        "id": "1KDkPoAvmQCo",
        "outputId": "d593dc9c-bc28-46e5-bb44-32813e222e25",
        "colab": {
          "base_uri": "https://localhost:8080/"
        }
      },
      "execution_count": 7,
      "outputs": [
        {
          "output_type": "stream",
          "name": "stdout",
          "text": [
            "Sin(x) =  0.001592652393160744\n",
            "Cos(x) =  -0.9999987352210833\n",
            "Sinh(x) =  11.530292029865986\n",
            "Cosh(x) =  11.573574824666185\n"
          ]
        }
      ]
    },
    {
      "cell_type": "code",
      "source": [
        "assert round(Radian(x = 1.0, n = 10).approx_cos(), 2) == 0.54\n",
        "print(round(Radian(x = 3.14, n = 10).approx_cos(), 2))"
      ],
      "metadata": {
        "id": "fAqEYOYtvHqZ",
        "outputId": "1c0455b5-009d-4916-e3d8-0a8d56ce9ed9",
        "colab": {
          "base_uri": "https://localhost:8080/"
        }
      },
      "execution_count": 9,
      "outputs": [
        {
          "output_type": "stream",
          "name": "stdout",
          "text": [
            "-1.0\n"
          ]
        }
      ]
    },
    {
      "cell_type": "code",
      "source": [
        "assert round(Radian(x = 1.0, n = 10).approx_sin(), 4) == 0.8415\n",
        "print(round(Radian(x = 3.14, n = 10).approx_sin(), 4))"
      ],
      "metadata": {
        "id": "rZt4vKeowtBB",
        "outputId": "dc0625a3-92cd-4f91-d92e-3016b0805295",
        "colab": {
          "base_uri": "https://localhost:8080/"
        }
      },
      "execution_count": 11,
      "outputs": [
        {
          "output_type": "stream",
          "name": "stdout",
          "text": [
            "0.0016\n"
          ]
        }
      ]
    },
    {
      "cell_type": "code",
      "source": [
        "assert round(Radian(x = 1.0, n = 10).approx_sinh(), 2) == 1.18\n",
        "print(round(Radian(x = 3.14, n = 10).approx_sinh(), 2))"
      ],
      "metadata": {
        "id": "f3oQk4ERxmX9",
        "outputId": "9709533e-06a5-4580-c5c3-eb9bab066003",
        "colab": {
          "base_uri": "https://localhost:8080/"
        }
      },
      "execution_count": 12,
      "outputs": [
        {
          "output_type": "stream",
          "name": "stdout",
          "text": [
            "11.53\n"
          ]
        }
      ]
    },
    {
      "cell_type": "code",
      "source": [
        "assert round(Radian(x = 1.0, n = 10).approx_cosh(), 2) == 1.54\n",
        "print(round(Radian(x = 3.14, n = 10).approx_cosh(), 2))"
      ],
      "metadata": {
        "id": "ET2AnbfexzBv",
        "outputId": "58bf49d3-99e4-4588-a6d7-de7c86c223df",
        "colab": {
          "base_uri": "https://localhost:8080/"
        }
      },
      "execution_count": 13,
      "outputs": [
        {
          "output_type": "stream",
          "name": "stdout",
          "text": [
            "11.57\n"
          ]
        }
      ]
    },
    {
      "cell_type": "code",
      "source": [
        "import math\n",
        "#Better than MAE\n",
        "def MD_nRE(y: float, y_hat: float, n: int, p: int):\n",
        "  sum = 0\n",
        "  sum = math.pow((math.pow(y,(1/n)) -math.pow(y_hat,(1/n))),p)\n",
        "  return sum\n",
        "\n",
        "print(MD_nRE(y = 100.0, y_hat = 99.5, n = 2, p = 1))"
      ],
      "metadata": {
        "id": "aQwfX4rymQE7",
        "outputId": "9c1b74fe-9534-421f-ebfa-c8faea9a339b",
        "colab": {
          "base_uri": "https://localhost:8080/"
        }
      },
      "execution_count": 3,
      "outputs": [
        {
          "output_type": "stream",
          "name": "stdout",
          "text": [
            "0.025031328369998107\n"
          ]
        }
      ]
    },
    {
      "cell_type": "code",
      "source": [
        "import math\n",
        "def calc_Abs_Error(y: float, y_hat: float):\n",
        "  return math.fabs(y - y_hat)\n",
        "\n",
        "assert (calc_Abs_Error(y = 1, y_hat = 6)) == 5\n",
        "print(calc_Abs_Error(y = 2, y_hat = 9))"
      ],
      "metadata": {
        "id": "Wuc8htzMtHJA",
        "outputId": "12f45926-de25-4052-c036-2bb9865d5713",
        "colab": {
          "base_uri": "https://localhost:8080/"
        }
      },
      "execution_count": 5,
      "outputs": [
        {
          "output_type": "stream",
          "name": "stdout",
          "text": [
            "7.0\n"
          ]
        }
      ]
    },
    {
      "cell_type": "code",
      "source": [
        "import math\n",
        "def calc_Square_Error(y: float, y_hat: float):\n",
        "  return math.pow((y - y_hat),2)\n",
        "\n",
        "assert (calc_Square_Error(y = 4, y_hat = 2)) == 4\n",
        "print(calc_Square_Error(y = 2, y_hat = 1))"
      ],
      "metadata": {
        "id": "CE6A5J29uNSR",
        "outputId": "d2a612d7-43d0-42ac-ea3b-95ec135ce196",
        "colab": {
          "base_uri": "https://localhost:8080/"
        }
      },
      "execution_count": 6,
      "outputs": [
        {
          "output_type": "stream",
          "name": "stdout",
          "text": [
            "1.0\n"
          ]
        }
      ]
    },
    {
      "cell_type": "code",
      "source": [
        "def is_Number(x):\n",
        "    try:\n",
        "      float(x)\n",
        "    except ValueError:\n",
        "      return False\n",
        "    return True\n",
        "\n",
        "assert is_Number(3) == 1.0\n",
        "assert is_Number(\"-2a\") == 0.0\n",
        "print(is_Number(1))\n",
        "print(is_Number(\"n\"))"
      ],
      "metadata": {
        "id": "QPdBNBBKmQHC",
        "outputId": "412f44ce-6378-45f8-e664-700e1b8e861b",
        "colab": {
          "base_uri": "https://localhost:8080/"
        }
      },
      "execution_count": 13,
      "outputs": [
        {
          "output_type": "stream",
          "name": "stdout",
          "text": [
            "True\n",
            "False\n"
          ]
        }
      ]
    }
  ]
}
