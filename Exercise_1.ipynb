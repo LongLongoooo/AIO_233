{
  "nbformat": 4,
  "nbformat_minor": 0,
  "metadata": {
    "colab": {
      "provenance": []
    },
    "kernelspec": {
      "name": "python3",
      "display_name": "Python 3"
    },
    "language_info": {
      "name": "python"
    }
  },
  "cells": [
    {
      "cell_type": "code",
      "execution_count": 1,
      "metadata": {
        "id": "xCSRwCyCY5Aj"
      },
      "outputs": [],
      "source": [
        "import math\n",
        "class Classification:\n",
        "  def __init__(self, tp: int, fp: int, fn: int):\n",
        "    if tp > 0 and  fp > 0 and fn > 0:\n",
        "      self.tp = tp\n",
        "      self.fp = tp\n",
        "      self.fn = fn\n",
        "\n",
        "  def precision(self):\n",
        "    precision = (self.tp)/(self.tp+self.fn)\n",
        "    return precision\n",
        "  def recall(self):\n",
        "    recall = (self.tp)/(self.tp + self.fn)\n",
        "    return recall\n",
        "  def F1_score(self):\n",
        "    f1_score = (2*self.precision()*self.recall())/(self.precision() + self.recall())\n",
        "    return f1_score\n",
        ""
      ]
    }
  ]
}