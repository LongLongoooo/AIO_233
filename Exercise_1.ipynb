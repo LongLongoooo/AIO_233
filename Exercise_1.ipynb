{
  "nbformat": 4,
  "nbformat_minor": 0,
  "metadata": {
    "colab": {
      "provenance": [],
      "mount_file_id": "1lC2HY6AZzxYJntvs_VUWCSHDi9OHEeuO",
      "authorship_tag": "ABX9TyMZzRjDGWV/7qjhgNK1l7/M",
      "include_colab_link": true
    },
    "kernelspec": {
      "name": "python3",
      "display_name": "Python 3"
    },
    "language_info": {
      "name": "python"
    }
  },
  "cells": [
    {
      "cell_type": "markdown",
      "metadata": {
        "id": "view-in-github",
        "colab_type": "text"
      },
      "source": [
        "<a href=\"https://colab.research.google.com/github/LongLongoooo/AIO_233/blob/main/Exercise_1.ipynb\" target=\"_parent\"><img src=\"https://colab.research.google.com/assets/colab-badge.svg\" alt=\"Open In Colab\"/></a>"
      ]
    },
    {
      "cell_type": "code",
      "execution_count": 1,
      "metadata": {
        "id": "xCSRwCyCY5Aj"
      },
      "outputs": [],
      "source": [
        "import math\n",
        "class Classification:\n",
        "  def __init__(self, tp: int, fp: int, fn: int):\n",
        "    if tp > 0 and  fp > 0 and fn > 0:\n",
        "      self.tp = tp\n",
        "      self.fp = tp\n",
        "      self.fn = fn\n",
        "\n",
        "  def precision(self):\n",
        "    precision = (self.tp)/(self.tp+self.fn)\n",
        "    return precision\n",
        "  def recall(self):\n",
        "    recall = (self.tp)/(self.tp + self.fn)\n",
        "    return recall\n",
        "  def F1_score(self):\n",
        "    f1_score = (2*self.precision()*self.recall())/(self.precision() + self.recall())\n",
        "    return f1_score\n",
        ""
      ]
    }
  ]
}