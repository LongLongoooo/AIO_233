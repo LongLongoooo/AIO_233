{
  "nbformat": 4,
  "nbformat_minor": 0,
  "metadata": {
    "colab": {
      "provenance": [],
      "authorship_tag": "ABX9TyPIi1L4/AzrEiX5WAuKr88H",
      "include_colab_link": true
    },
    "kernelspec": {
      "name": "python3",
      "display_name": "Python 3"
    },
    "language_info": {
      "name": "python"
    }
  },
  "cells": [
    {
      "cell_type": "markdown",
      "metadata": {
        "id": "view-in-github",
        "colab_type": "text"
      },
      "source": [
        "<a href=\"https://colab.research.google.com/github/LongLongoooo/AIO_233/blob/AIO_Module_2/Exercise_3.ipynb\" target=\"_parent\"><img src=\"https://colab.research.google.com/assets/colab-badge.svg\" alt=\"Open In Colab\"/></a>"
      ]
    },
    {
      "cell_type": "code",
      "source": [
        "import numpy as np\n",
        "import pandas as pd"
      ],
      "metadata": {
        "id": "Ndy46bG8CbZ5"
      },
      "execution_count": 1,
      "outputs": []
    },
    {
      "cell_type": "code",
      "source": [
        "def create_train_data(file_path):\n",
        "  data = pd.read_csv(file_path).to_numpy()\n",
        "  return data"
      ],
      "metadata": {
        "id": "J6kuYefbAiNQ"
      },
      "execution_count": 5,
      "outputs": []
    },
    {
      "cell_type": "code",
      "source": [
        "train_data = create_train_data(\"/content/play_tennis_updated (final).csv\")\n",
        "print(train_data)"
      ],
      "metadata": {
        "colab": {
          "base_uri": "https://localhost:8080/",
          "height": 0
        },
        "id": "69_Ao2hQBwH1",
        "outputId": "563bda72-f783-45f4-8a75-8b163d7da513"
      },
      "execution_count": 7,
      "outputs": [
        {
          "output_type": "stream",
          "name": "stdout",
          "text": [
            "[['Sunny' 'Hot' 'High' 'Weak' 'No']\n",
            " ['Sunny' 'Hot' 'High' 'Strong' 'No']\n",
            " ['Overcast' 'Hot' 'High' 'Weak' 'Yes']\n",
            " ['Rain' 'Mild' 'High' 'Weak' 'Yes']\n",
            " ['Rain' 'Cool' 'Normal' 'Weak' 'Yes']\n",
            " ['Rain' 'Cool' 'Normal' 'Strong' 'No']\n",
            " ['Overcast' 'Cool' 'Normal' 'Strong' 'Yes']\n",
            " ['Overcast' 'Mild' 'High' 'Weak' 'No']\n",
            " ['Sunny' 'Cool' 'Normal' 'Weak' 'Yes']\n",
            " ['Rain' 'Mild' 'Normal' 'Weak' 'Yes']]\n"
          ]
        }
      ]
    },
    {
      "cell_type": "code",
      "source": [],
      "metadata": {
        "colab": {
          "base_uri": "https://localhost:8080/"
        },
        "id": "aLAsIPOoMW7l",
        "outputId": "2c661298-4533-4093-934b-7905b1c2c739"
      },
      "execution_count": null,
      "outputs": [
        {
          "output_type": "execute_result",
          "data": {
            "text/plain": [
              "5"
            ]
          },
          "metadata": {},
          "execution_count": 33
        }
      ]
    },
    {
      "cell_type": "code",
      "source": [
        "def compute_prior_probability(train_data):\n",
        "  y_unique = [\"Yes\", \"No\"]\n",
        "  # Initialize a dictionary to store\n",
        "  prior_probability = {key: 0 for key in y_unique}\n",
        "\n",
        "  # Take Play tennis column\n",
        "  col = train_data[:, -1]\n",
        "\n",
        "  # Find total samples in Play_tennis column\n",
        "  total_sample = len(col)\n",
        "\n",
        "  # Count number of Yes and No and compute Prior prob in this column\n",
        "  for value in y_unique:\n",
        "    prior_probability[value] = np.sum(col == value) / total_sample\n",
        "\n",
        "  return prior_probability\n",
        "\n",
        "\n"
      ],
      "metadata": {
        "id": "S2wuziyFB7EI"
      },
      "execution_count": 8,
      "outputs": []
    },
    {
      "cell_type": "code",
      "source": [
        "prior_probablity = compute_prior_probability (train_data)\n",
        "print (\"P( play tennis = No)\", prior_probablity [\"No\"])\n",
        "print (\"P( play tennis = Yes)\", prior_probablity [\"Yes\"])"
      ],
      "metadata": {
        "colab": {
          "base_uri": "https://localhost:8080/",
          "height": 0
        },
        "id": "MuibfuG7DFOs",
        "outputId": "41f929bd-8994-4778-cd88-611b6e7908b2"
      },
      "execution_count": 9,
      "outputs": [
        {
          "output_type": "stream",
          "name": "stdout",
          "text": [
            "P( play tennis = No) 0.4\n",
            "P( play tennis = Yes) 0.6\n"
          ]
        }
      ]
    },
    {
      "cell_type": "code",
      "source": [
        "def compute_conditional_probability(train_data):\n",
        "  y_unique = [\"Yes\", \"No\"]\n",
        "  conditional_probability = []\n",
        "  list_x_name = []\n",
        "  col = train_data[:, -1]\n",
        "  total_sample = len(col)\n",
        "  for i in range(0, train_data.shape[1] - 1):\n",
        "    # Initialize a selected column for x_unique\n",
        "    selected_column = train_data[:, i]\n",
        "\n",
        "    # Take unique value from a selected row\n",
        "    x_unique = np.unique(selected_column)\n",
        "    list_x_name.append(x_unique)\n",
        "\n",
        "    #Initialize a 2D array to store probability of each feature with play_tennis row\n",
        "    x_conditional_probability = np.zeros((len(x_unique), len(y_unique)))\n",
        "\n",
        "    # Compute conditional prob of each feature when play_Tennis column occurs Yes or No value\n",
        "    for k, x in enumerate(x_unique):\n",
        "      for j, y in enumerate(y_unique):\n",
        "        x_conditional_probability[k, j] = np.sum((selected_column == x) & (col == y)) / np.sum(col == y)\n",
        "    conditional_probability.append(x_conditional_probability)\n",
        "\n",
        "\n",
        "  return conditional_probability , list_x_name"
      ],
      "metadata": {
        "id": "ltuaVMZ_LJAP"
      },
      "execution_count": 10,
      "outputs": []
    },
    {
      "cell_type": "code",
      "source": [
        "train_data = create_train_data (\"/content/play_tennis_updated (final).csv\")\n",
        "conditional_probability, list_x_name = compute_conditional_probability ( train_data )\n",
        "print (\"x1 = \",list_x_name [0])\n",
        "print (\"x2 = \",list_x_name [1])\n",
        "print (\"x3 = \",list_x_name [2])\n",
        "print (\"x4 = \",list_x_name [3])\n",
        "print(conditional_probability)\n",
        "print(conditional_probability[0][2, 0])\n",
        "print(len(list_x_name))"
      ],
      "metadata": {
        "colab": {
          "base_uri": "https://localhost:8080/",
          "height": 0
        },
        "id": "qdm6oT-pNS6H",
        "outputId": "692dd871-d967-4da8-fbaf-2f9b2418c043"
      },
      "execution_count": 11,
      "outputs": [
        {
          "output_type": "stream",
          "name": "stdout",
          "text": [
            "x1 =  ['Overcast' 'Rain' 'Sunny']\n",
            "x2 =  ['Cool' 'Hot' 'Mild']\n",
            "x3 =  ['High' 'Normal']\n",
            "x4 =  ['Strong' 'Weak']\n",
            "[array([[0.33333333, 0.25      ],\n",
            "       [0.5       , 0.25      ],\n",
            "       [0.16666667, 0.5       ]]), array([[0.5       , 0.25      ],\n",
            "       [0.16666667, 0.5       ],\n",
            "       [0.33333333, 0.25      ]]), array([[0.33333333, 0.75      ],\n",
            "       [0.66666667, 0.25      ]]), array([[0.16666667, 0.5       ],\n",
            "       [0.83333333, 0.5       ]])]\n",
            "0.16666666666666666\n",
            "4\n"
          ]
        }
      ]
    },
    {
      "cell_type": "code",
      "source": [
        "def get_index_from_value(feature_name, list_feature):\n",
        "  return np.where(list_feature == feature_name)[0][0]\n"
      ],
      "metadata": {
        "id": "BnSzuiHfaXkr"
      },
      "execution_count": null,
      "outputs": []
    },
    {
      "cell_type": "code",
      "source": [
        "_,list_x_name = compute_conditional_probability(train_data)\n",
        "outlook = list_x_name[0]\n",
        "print(outlook)\n",
        "i1 = get_index_from_value(\"Overcast\", outlook)\n",
        "i2 = get_index_from_value(\"Rain\", outlook)\n",
        "i3 = get_index_from_value(\"Sunny\", outlook)\n",
        "\n",
        "print(i1, i2, i3)"
      ],
      "metadata": {
        "colab": {
          "base_uri": "https://localhost:8080/"
        },
        "id": "Oxvl5M_HQKfj",
        "outputId": "f1f0ea7d-7968-4396-cdd6-a890e7f42a3b"
      },
      "execution_count": null,
      "outputs": [
        {
          "output_type": "stream",
          "name": "stdout",
          "text": [
            "['Overcast' 'Rain' 'Sunny']\n",
            "0 1 2\n"
          ]
        }
      ]
    },
    {
      "cell_type": "code",
      "source": [],
      "metadata": {
        "id": "ff2XXEUkREYG"
      },
      "execution_count": null,
      "outputs": []
    },
    {
      "cell_type": "code",
      "source": [
        "conditional_probability , list_x_name = compute_conditional_probability ( train_data )\n",
        "# Compute P(\" Outlook \"=\" Sunny \"| Play Tennis \"=\" Yes \")\n",
        "x1= get_index_from_value (\"Sunny\", list_x_name[0])\n",
        "print (\"P( Outlook = Sunny ’| Play Tennis = ’Yes ’) = \", np. round (conditional_probability[0][x1, 0] ,2))\n",
        "\n",
        "# Compute P(\" Outlook \"=\" Sunny \"| Play Tennis \"=\" No \")\n",
        "x2= get_index_from_value (\"Sunny\", list_x_name[0])\n",
        "print (\"P( Outlook = Sunny ’| Play Tennis = ’No’) = \", np. round (conditional_probability[0][x1, 1] ,2))"
      ],
      "metadata": {
        "colab": {
          "base_uri": "https://localhost:8080/"
        },
        "id": "O-mH2pCkQ41t",
        "outputId": "69725687-cf4e-416c-8659-ede6545d7299"
      },
      "execution_count": null,
      "outputs": [
        {
          "output_type": "stream",
          "name": "stdout",
          "text": [
            "P( Outlook = Sunny ’| Play Tennis = ’Yes ’) =  0.17\n",
            "P( Outlook = Sunny ’| Play Tennis = ’No’) =  0.5\n"
          ]
        }
      ]
    },
    {
      "cell_type": "code",
      "source": [
        "#  PLAY TENNIS CLASSIFIER IMPLEMENTATION\n",
        "def compute_prior_probability(train_data):\n",
        "  y_unique = [\"Yes\", \"No\"]\n",
        "  # Initialize a dictionary to store\n",
        "  prior_probability = {key: 0 for key in y_unique}\n",
        "\n",
        "  # Take Play tennis column\n",
        "  col = train_data[:, -1]\n",
        "\n",
        "  # Find total samples in Play_tennis column\n",
        "  total_sample = len(col)\n",
        "\n",
        "  # Count number of Yes and No and compute Prior prob in this column\n",
        "  for value in y_unique:\n",
        "    prior_probability[value] = np.sum(col == value) / total_sample\n",
        "\n",
        "  return prior_probability\n",
        "\n",
        "\n",
        "def compute_conditional_probability(train_data):\n",
        "  y_unique = [\"Yes\", \"No\"]\n",
        "  conditional_probability = []\n",
        "  list_x_name = []\n",
        "  col = train_data[:, -1]\n",
        "  total_sample = len(col)\n",
        "  for i in range(0, train_data.shape[1] - 1):\n",
        "    # Initialize a selected column for x_unique\n",
        "    selected_column = train_data[:, i]\n",
        "\n",
        "    # Take unique value from a selected row\n",
        "    x_unique = np.unique(selected_column)\n",
        "    list_x_name.append(x_unique)\n",
        "\n",
        "    #Initialize a 2D array to store probability of each feature with play_tennis row\n",
        "    x_conditional_probability = np.zeros((len(x_unique), len(y_unique)))\n",
        "\n",
        "    # Compute conditional prob of each feature when play_Tennis column occurs Yes or No value\n",
        "    for k, x in enumerate(x_unique):\n",
        "      for j, y in enumerate(y_unique):\n",
        "        x_conditional_probability[k, j] = np.sum((selected_column == x) & (col == y)) / np.sum(col == y)\n",
        "    conditional_probability.append(x_conditional_probability)\n",
        "\n",
        "\n",
        "  return conditional_probability , list_x_name\n",
        "\n",
        "def train_naive_bayes(train_data):\n",
        "  # Calculate  Prior Probability\n",
        "  y_unique = [\"Yes\", \"No\"]\n",
        "  prior_probability = compute_prior_probability(train_data)\n",
        "\n",
        "  # Calculate Conditional Prob\n",
        "  conditional_probability , list_x_name = compute_conditional_probability (train_data)\n",
        "  return prior_probability , conditional_probability , list_x_name\n",
        "\n",
        "def prediction_play_tennis(condition: list, list_x_name: list, prior_probability, conditional_probability):\n",
        "  pYes = 0\n",
        "  pNo = 0\n",
        "\n",
        "  # Calculate P(Condition | Yes) and P(Condition | No)\n",
        "  Prob_X_Yes = 1\n",
        "  Prob_X_No = 1\n",
        "  for i in range(len(list_x_name)):\n",
        "    x =get_index_from_value(condition[i], list_x_name[i])\n",
        "    Prob_X_Yes = Prob_X_Yes * conditional_probability[i][x, 0]\n",
        "    Prob_X_No = Prob_X_No * conditional_probability[i][x, 1]\n",
        "\n",
        "  # Calculate P(Condition)\n",
        "  Prob_X = Prob_X_Yes * prior_probability[\"Yes\"] + Prob_X_No * prior_probability[\"No\"]\n",
        "\n",
        "  # Calculate p(Yes | Condition\n",
        "  pYes = (Prob_X_Yes * prior_probability[\"Yes\"]) / Prob_X\n",
        "  pNo = (Prob_X_No * prior_probability[\"No\"]) / Prob_X\n",
        "\n",
        "  print(pYes, pNo)\n",
        "  if pYes > pNo:\n",
        "    y_pred = 1\n",
        "  else:\n",
        "    y_pred = 0\n",
        "  return y_pred"
      ],
      "metadata": {
        "id": "a_wcTZpecnl5"
      },
      "execution_count": null,
      "outputs": []
    },
    {
      "cell_type": "code",
      "source": [
        "condition = [\"Sunny\", \"Cool\", \"High\", \"Strong\"]\n",
        "train_data = create_train_data(\"/content/play_tennis_updated (final).csv\")\n",
        "prior_probability, conditional_probability, list_x_name = train_naive_bayes(train_data)\n",
        "\n",
        "pred = prediction_play_tennis (condition, list_x_name , prior_probability ,conditional_probability)\n",
        "\n",
        "if( pred ):\n",
        "  print (\"Ad should go!\")\n",
        "else:\n",
        "  print (\"Ad should not go!\")"
      ],
      "metadata": {
        "colab": {
          "base_uri": "https://localhost:8080/"
        },
        "id": "ULWgKal1ygzj",
        "outputId": "d32bd072-a8b1-4881-e954-30ee4d6a829b"
      },
      "execution_count": null,
      "outputs": [
        {
          "output_type": "stream",
          "name": "stdout",
          "text": [
            "0.1290322580645161 0.8709677419354839\n",
            "Ad should not go!\n"
          ]
        }
      ]
    },
    {
      "cell_type": "code",
      "source": [
        "# Delay prediction\n",
        "import numpy as np\n",
        "import pandas as pd\n",
        "\n",
        "def create_train_data(file_path):\n",
        "    data = pd.read_csv(file_path)\n",
        "    data = data.fillna(\"None\")\n",
        "    data = data.to_numpy()\n",
        "    return data\n",
        "\n",
        "def compute_prior_probability(train_data, prior_class):\n",
        "    y_unique = prior_class\n",
        "    prior_probability_list = []\n",
        "    col = train_data[:, -1]\n",
        "    total_sample = len(col)\n",
        "\n",
        "    for i in range(len(y_unique)):\n",
        "        prior_probability = np.sum(col == y_unique[i]) / total_sample\n",
        "        prior_probability_list.append(prior_probability)\n",
        "\n",
        "    return prior_probability_list\n",
        "\n",
        "def compute_conditional_probability(train_data, prior_class):\n",
        "    y_unique = prior_class\n",
        "    conditional_probability = []\n",
        "    list_x_name = []\n",
        "    col = train_data[:, -1]\n",
        "\n",
        "    for i in range(0, train_data.shape[1] - 1):\n",
        "        selected_column = train_data[:, i]\n",
        "        x_unique = np.unique(selected_column)\n",
        "        list_x_name.append(x_unique)\n",
        "\n",
        "        x_conditional_probability = np.zeros((len(x_unique), len(y_unique)))\n",
        "\n",
        "        for k, x in enumerate(x_unique):\n",
        "            for j, y in enumerate(y_unique):\n",
        "                x_conditional_probability[k, j] = np.sum((selected_column == x) & (col == y)) / np.sum(col == y)\n",
        "        conditional_probability.append(x_conditional_probability)\n",
        "\n",
        "    return conditional_probability, list_x_name\n",
        "\n",
        "def get_index_from_value(feature_name, list_feature):\n",
        "    return np.where(list_feature == feature_name)[0][0]\n",
        "\n",
        "def train_naive_bayes(train_data, prior_class):\n",
        "    prior_probability_list = compute_prior_probability(train_data, prior_class)\n",
        "    conditional_probability, list_x_name = compute_conditional_probability(train_data, prior_class)\n",
        "    return prior_probability_list, conditional_probability, list_x_name\n",
        "\n",
        "def prediction_prior_class(condition, list_x_name, prior_probability_list, conditional_probability, prior_class):\n",
        "    y_unique = prior_class\n",
        "    Prob_X = 0\n",
        "    Prob_X_Class_list = []\n",
        "\n",
        "    for j in range(len(y_unique)):\n",
        "        Prob_X_Class = 1\n",
        "        for i in range(len(list_x_name)):\n",
        "            x = get_index_from_value(condition[i], list_x_name[i])\n",
        "\n",
        "            # Calculate P(Condition | prior_class)\n",
        "            Prob_X_Class = Prob_X_Class * conditional_probability[i][x, j]\n",
        "\n",
        "        Prob_X_Class_list.append(Prob_X_Class * prior_probability_list[j])\n",
        "        Prob_X += Prob_X_Class * prior_probability_list[j]\n",
        "    Prob_Class_list = []\n",
        "\n",
        "    for i in range(len(y_unique)):\n",
        "        Prob_Class = (Prob_X_Class_list[i])/ Prob_X\n",
        "        Prob_Class_list.append(Prob_Class)\n",
        "\n",
        "    return Prob_Class_list\n",
        "\n",
        "# Using the corrected functions to run the prediction\n",
        "train_data = create_train_data(\"/content/weatherData.csv\")\n",
        "prior_class = np.unique(train_data[:, -1])\n",
        "print(prior_class)\n",
        "\n",
        "condition = [\"Weekday\", \"Winter\", \"High\", \"Heavy\"]\n",
        "prior_probability_list, conditional_probability, list_x_name = train_naive_bayes(train_data, prior_class)\n",
        "prediction_result = prediction_prior_class(condition, list_x_name, prior_probability_list, conditional_probability, prior_class)\n",
        "print(prediction_result)"
      ],
      "metadata": {
        "id": "_dl5joqD8LSI",
        "colab": {
          "base_uri": "https://localhost:8080/"
        },
        "outputId": "490bfe23-2529-4871-c075-f2ffbd1e633c"
      },
      "execution_count": 8,
      "outputs": [
        {
          "output_type": "stream",
          "name": "stdout",
          "text": [
            "['Cancelled' 'Late' 'On Time' 'Very Late']\n",
            "[0.0]\n",
            "[0.0, 0.0]\n",
            "[0.0, 0.0, 0.0026239067055393583]\n",
            "[0.0, 0.0, 0.0026239067055393583, 0.02222222222222222]\n",
            "Prob_X_Class_list [0.0, 0.0, 0.0026239067055393583, 0.02222222222222222]\n",
            "0.024846128927761578\n",
            "[0.0, 0.0, 0.10560625814863103, 0.894393741851369]\n"
          ]
        }
      ]
    },
    {
      "cell_type": "code",
      "source": [
        "# MULTI-LABEL CLASSIFICATION - TRAFFIC DATA\n",
        "import numpy as np\n",
        "import pandas as pd\n",
        "\n",
        "def create_train_data(file_path):\n",
        "    data = pd.read_csv(file_path)\n",
        "    data = data.fillna(\"None\")\n",
        "    data = data.to_numpy()\n",
        "    return data\n",
        "\n",
        "def compute_prior_probability(train_data, prior_class):\n",
        "    y_unique = prior_class\n",
        "    prior_probability_list = []\n",
        "    col = train_data[:, -1]\n",
        "    total_sample = len(col)\n",
        "\n",
        "    for i in range(len(y_unique)):\n",
        "        prior_probability = np.sum(col == y_unique[i]) / total_sample\n",
        "        prior_probability_list.append(prior_probability)\n",
        "\n",
        "    return prior_probability_list\n",
        "\n",
        "def compute_conditional_probability(train_data, prior_class):\n",
        "    y_unique = prior_class\n",
        "    conditional_probability = []\n",
        "    list_x_name = []\n",
        "    col = train_data[:, -1]\n",
        "\n",
        "    for i in range(0, train_data.shape[1] - 1):\n",
        "        selected_column = train_data[:, i]\n",
        "        x_unique = np.unique(selected_column)\n",
        "        list_x_name.append(x_unique)\n",
        "\n",
        "        x_conditional_probability = np.zeros((len(x_unique), len(y_unique)))\n",
        "\n",
        "        for k, x in enumerate(x_unique):\n",
        "            for j, y in enumerate(y_unique):\n",
        "                x_conditional_probability[k, j] = np.sum((selected_column == x) & (col == y)) / np.sum(col == y)\n",
        "        conditional_probability.append(x_conditional_probability)\n",
        "\n",
        "    return conditional_probability, list_x_name\n",
        "\n",
        "def get_index_from_value(feature_name, list_feature):\n",
        "    return np.where(list_feature == feature_name)[0][0]\n",
        "\n",
        "def train_naive_bayes(train_data, prior_class):\n",
        "    prior_probability_list = compute_prior_probability(train_data, prior_class)\n",
        "    conditional_probability, list_x_name = compute_conditional_probability(train_data, prior_class)\n",
        "    return prior_probability_list, conditional_probability, list_x_name\n",
        "\n",
        "def classification_traffic_data(condition, list_x_name, prior_probability_list, conditional_probability, prior_class):\n",
        "    y_unique = prior_class\n",
        "    Prob_X = 0\n",
        "    Prob_X_Class_list = []\n",
        "\n",
        "    for j in range(len(y_unique)):\n",
        "        Prob_X_Class = 1\n",
        "        for i in range(len(list_x_name)):\n",
        "            x = get_index_from_value(condition[i], list_x_name[i])\n",
        "\n",
        "            # Calculate P(Condition | prior_class)\n",
        "            Prob_X_Class = Prob_X_Class * conditional_probability[i][x, j]\n",
        "\n",
        "        Prob_X_Class_list.append(Prob_X_Class * prior_probability_list[j])\n",
        "\n",
        "    return Prob_X_Class_list\n",
        "\n",
        "# Using the corrected functions to run the prediction\n",
        "train_data = create_train_data(\"/content/weatherData.csv\")\n",
        "prior_class = np.unique(train_data[:, -1])\n",
        "print(prior_class)\n",
        "\n",
        "condition = [\"Weekday\", \"Winter\", \"High\", \"Heavy\"]\n",
        "prior_probability_list, conditional_probability, list_x_name = train_naive_bayes(train_data, prior_class)\n",
        "prediction_result = classification_traffic_data(condition, list_x_name, prior_probability_list, conditional_probability, prior_class)\n",
        "print(prediction_result)"
      ],
      "metadata": {
        "colab": {
          "base_uri": "https://localhost:8080/"
        },
        "id": "JQvzNUZvaLMv",
        "outputId": "18855b3c-089a-4db3-cd20-b107ab8ccca4"
      },
      "execution_count": 10,
      "outputs": [
        {
          "output_type": "stream",
          "name": "stdout",
          "text": [
            "['Cancelled' 'Late' 'On Time' 'Very Late']\n",
            "[0.0, 0.0, 0.0026239067055393583, 0.02222222222222222]\n"
          ]
        }
      ]
    },
    {
      "cell_type": "code",
      "source": [
        "import numpy as np\n",
        "def gaussian_pdf(x, mean, variance):\n",
        "    # Calculate the standard deviation from the variance\n",
        "    std_dev = np.sqrt(variance)\n",
        "\n",
        "    # Calculate the PDF using the Gaussian formula\n",
        "    pdf = (1 / (std_dev * np.sqrt(2 * np.pi))) * np.exp(-0.5 * ((x - mean) / std_dev) ** 2)\n",
        "\n",
        "    return pdf\n",
        "\n",
        "sample_length = 3.4\n",
        "# Label 0\n",
        "arr0 = np.array([1.4, 1.0, 1.3, 1.9, 2.0, 1.8])\n",
        "var0 = (1/6)*np.sum((arr0 - np.mean(arr0))**2)\n",
        "print(var0, np.mean(arr0))\n",
        "P_Length_class0 = gaussian_pdf(sample_length, np.mean(arr0), var0)\n",
        "\n",
        "\n",
        "# Label 1\n",
        "arr1 = np.array([ 3.0, 3.8, 4.1, 3.9, 4.2, 3.4])\n",
        "var1 = (1/6)*np.sum((arr1 - np.mean(arr1))**2)\n",
        "print(var1, np.mean(arr1))\n",
        "P_Length_class1 = gaussian_pdf(sample_length, np.mean(arr1), var1)\n",
        "\n",
        "# P(L = 3.4)\n",
        "P_Length = P_Length_class0 * 0.5 + P_Length_class1 * 0.5\n",
        "#print(P_Length)\n",
        "# P(L = 3.4 | Class = 0)\n",
        "P_Length_class0_given_L = P_Length_class0 * 0.5\n",
        "print(P_Length_class0_given_L)\n",
        "\n",
        "# P(L = 3.4 | Class = 1)\n",
        "P_Length_class1_given_L = P_Length_class1 * 0.5\n",
        "print(P_Length_class1_given_L)\n",
        "\n"
      ],
      "metadata": {
        "colab": {
          "base_uri": "https://localhost:8080/"
        },
        "id": "RzEaYltV1rA2",
        "outputId": "ef35a482-cf0a-4b30-82fe-15931cf31147"
      },
      "execution_count": 27,
      "outputs": [
        {
          "output_type": "stream",
          "name": "stdout",
          "text": [
            "0.1288888888888889 1.5666666666666667\n",
            "0.1722222222222222 3.733333333333333\n",
            "1.2080820590230566e-06\n",
            "0.34812922367906424\n"
          ]
        }
      ]
    }
  ]
}