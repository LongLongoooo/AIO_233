{
  "nbformat": 4,
  "nbformat_minor": 0,
  "metadata": {
    "colab": {
      "provenance": [],
      "authorship_tag": "ABX9TyNpBY82Y+QFxqTZZA6bAr/X",
      "include_colab_link": true
    },
    "kernelspec": {
      "name": "python3",
      "display_name": "Python 3"
    },
    "language_info": {
      "name": "python"
    }
  },
  "cells": [
    {
      "cell_type": "markdown",
      "metadata": {
        "id": "view-in-github",
        "colab_type": "text"
      },
      "source": [
        "<a href=\"https://colab.research.google.com/github/LongLongoooo/AIO_233/blob/Exercise_3/Exercise_3.ipynb\" target=\"_parent\"><img src=\"https://colab.research.google.com/assets/colab-badge.svg\" alt=\"Open In Colab\"/></a>"
      ]
    },
    {
      "cell_type": "code",
      "execution_count": 5,
      "metadata": {
        "id": "1cRcxooqdMOc"
      },
      "outputs": [],
      "source": [
        "#Q1\n",
        "import torch\n",
        "import torch.nn as nn\n",
        "import math"
      ]
    },
    {
      "cell_type": "code",
      "source": [
        "class Softmax(nn.Module):\n",
        "  def __init__(self):\n",
        "    super(Softmax, self).__init__() #call the constructor of nn.Module\n",
        "\n",
        "  def forward(self, x):\n",
        "    exp_x = torch.exp(x)\n",
        "    sum_exp_x = torch.sum(exp_x)\n",
        "    return exp_x / sum_exp_x\n",
        "\n",
        "class softmaxStable(nn.Module):\n",
        "  def __init__(self):\n",
        "    super(softmaxStable, self).__init__()\n",
        "\n",
        "  def forward(self, x):\n",
        "    c = torch.max(x)\n",
        "    exp_x = torch.exp(x - c)\n",
        "    sum_exp_x = torch.sum(exp_x)\n",
        "    return exp_x/sum_exp_x\n",
        "\n"
      ],
      "metadata": {
        "id": "DWfRvGAVfGj3"
      },
      "execution_count": 10,
      "outputs": []
    },
    {
      "cell_type": "code",
      "source": [
        "data = torch.Tensor([1,2,3])\n",
        "softmax = Softmax()\n",
        "output = softmax(data)\n",
        "\n",
        "output"
      ],
      "metadata": {
        "colab": {
          "base_uri": "https://localhost:8080/"
        },
        "id": "3ebz_Ks0dzZa",
        "outputId": "40ea381b-166e-49bf-b248-53d72b296877"
      },
      "execution_count": 11,
      "outputs": [
        {
          "output_type": "execute_result",
          "data": {
            "text/plain": [
              "tensor([0.0900, 0.2447, 0.6652])"
            ]
          },
          "metadata": {},
          "execution_count": 11
        }
      ]
    },
    {
      "cell_type": "code",
      "source": [
        "data = torch.Tensor([1,2,3])\n",
        "softmax_stable = softmaxStable()\n",
        "output = softmax_stable(data)\n",
        "\n",
        "output"
      ],
      "metadata": {
        "colab": {
          "base_uri": "https://localhost:8080/"
        },
        "id": "WExUyf1MmJMb",
        "outputId": "3346b04b-60ef-479a-9421-08b190b361df"
      },
      "execution_count": 12,
      "outputs": [
        {
          "output_type": "execute_result",
          "data": {
            "text/plain": [
              "tensor([0.0900, 0.2447, 0.6652])"
            ]
          },
          "metadata": {},
          "execution_count": 12
        }
      ]
    },
    {
      "cell_type": "code",
      "source": [
        "#Q2\n",
        "class Student:\n",
        "  def __init__(self, name, year_of_birth, grade):\n",
        "    self.name = name\n",
        "    self.year_of_birth = year_of_birth\n",
        "    self.grade = grade\n",
        "  def describe(self):\n",
        "    print(f\"{self.name} - YoB: {self.year_of_birth} - Grade: {self.grade}\")\n",
        "\n",
        "class Teacher:\n",
        "  def __init__(self, name, year_of_birth, subject):\n",
        "    self.name = name\n",
        "    self.year_of_birth = year_of_birth\n",
        "    self.subject = subject\n",
        "  def describe(self):\n",
        "    print(f\"{self.name} - YoB: {self.year_of_birth} - Subject: {self.subject}\")\n",
        "\n",
        "class Doctor:\n",
        "  def __init__(self, name, year_of_birth, specialist):\n",
        "    self.name = name\n",
        "    self.year_of_birth = year_of_birth\n",
        "    self.specialist = specialist\n",
        "  def describe(self):\n",
        "    print(f\"{self.name} - YoB: {self.year_of_birth} - Specialist: {self.specialist}\")\n",
        "\n",
        "class Ward:\n",
        "  def __init__(self, name):\n",
        "    self.name = name\n",
        "    self.set_person = []\n",
        "\n",
        "  def add_person(self, person):\n",
        "    self.set_person.append(person)\n",
        "\n",
        "  def count_doctor(self):\n",
        "    count = 0\n",
        "    for person in self.set_person:\n",
        "     if isinstance(person, Doctor):\n",
        "       count += 1\n",
        "    return count\n",
        "\n",
        "  def sort_Age(self):\n",
        "    return  sorted(self.set_person, key = lambda person: person.year_of_birth, reverse = True)\n",
        "\n",
        "  def compute_avarage_Yob_Teacher(self):\n",
        "    sum = 0\n",
        "    count = 0\n",
        "    for person in self.set_person:\n",
        "      if isinstance(person, Teacher):\n",
        "        sum += person.year_of_birth\n",
        "        count += 1\n",
        "    return sum / count\n",
        "\n",
        "  def describe(self):\n",
        "    print(\"Ward name:\", self.name)\n",
        "    for person in self.set_person:\n",
        "        person.describe()"
      ],
      "metadata": {
        "id": "Xju2A_71mX36"
      },
      "execution_count": 94,
      "outputs": []
    },
    {
      "cell_type": "code",
      "source": [
        "student1 = Student ( name =\" studentA \", year_of_birth= 2010 , grade =\"7\")\n",
        "student1.describe ()\n",
        "\n",
        "\n",
        "teacher1 = Teacher ( name =\" teacherA \", year_of_birth=1969 , subject =\" Math \")\n",
        "teacher1.describe ()\n",
        "\n",
        "\n",
        "doctor1 = Doctor ( name =\" doctorA \", year_of_birth=1945 , specialist =\" Endocrinologists \")\n",
        "doctor1.describe ()\n",
        "\n",
        "print ()\n",
        "teacher2 = Teacher ( name =\" teacherB \", year_of_birth=1995 , subject =\" History \")\n",
        "doctor2 = Doctor ( name =\" doctorB \", year_of_birth=1975 , specialist =\" Cardiologists \")\n",
        "ward1 = Ward ( name =\" Ward1 \")\n",
        "ward1.add_person ( doctor1 )\n",
        "ward1.add_person ( doctor2 )\n",
        "ward1.add_person ( student1 )\n",
        "ward1.add_person ( teacher1 )\n",
        "ward1.add_person ( teacher2 )\n",
        "ward1.describe()\n",
        "\n",
        "print(\"Number of doctor: \", ward1.count_doctor())\n",
        "for person in ward1.sort_Age():\n",
        "  person.describe()\n",
        "\n",
        "print(\"Average Yob of Teacher: \", ward1.compute_avarage_Yob_Teacher())\n"
      ],
      "metadata": {
        "colab": {
          "base_uri": "https://localhost:8080/"
        },
        "id": "WN5E63SztbTh",
        "outputId": "fb0a5fa5-b17b-48e6-8ff9-6acbe362e249"
      },
      "execution_count": 68,
      "outputs": [
        {
          "output_type": "stream",
          "name": "stdout",
          "text": [
            " studentA  - YoB: 2010 - Grade: 7\n",
            " teacherA  - YoB: 1969 - Subject:  Math \n",
            " doctorA  - YoB: 1945 - Specialist:  Endocrinologists \n",
            "\n",
            "Ward name:  Ward1 \n",
            " doctorA  - YoB: 1945 - Specialist:  Endocrinologists \n",
            " doctorB  - YoB: 1975 - Specialist:  Cardiologists \n",
            " studentA  - YoB: 2010 - Grade: 7\n",
            " teacherA  - YoB: 1969 - Subject:  Math \n",
            " teacherB  - YoB: 1995 - Subject:  History \n",
            "Number of doctor:  2\n",
            " studentA  - YoB: 2010 - Grade: 7\n",
            " teacherB  - YoB: 1995 - Subject:  History \n",
            " doctorB  - YoB: 1975 - Specialist:  Cardiologists \n",
            " teacherA  - YoB: 1969 - Subject:  Math \n",
            " doctorA  - YoB: 1945 - Specialist:  Endocrinologists \n",
            "Average Yob of Teacher:  1982.0\n"
          ]
        }
      ]
    },
    {
      "cell_type": "code",
      "source": [
        "#Q3\n",
        "class Stack:\n",
        "  def __init__(self, capacity):\n",
        "    self.capacity = capacity\n",
        "    self.stack = []\n",
        "\n",
        "  def is_Empty(self):\n",
        "    return len(self.stack) == 0\n",
        "\n",
        "  def is_Full(self):\n",
        "    return len(self.stack) == self.capacity\n",
        "\n",
        "  def top(self):\n",
        "    return self.stack[-1]\n",
        "\n",
        "  def push(self, value):\n",
        "    self.stack.append(value)\n",
        "\n",
        "\n",
        "  def pop(self):\n",
        "    popped_value = self.top()\n",
        "    self.stack.remove(popped_value)\n",
        "    return popped_value\n",
        "\n",
        ""
      ],
      "metadata": {
        "id": "cffgOG9Z5lq-"
      },
      "execution_count": 70,
      "outputs": []
    },
    {
      "cell_type": "code",
      "source": [
        "stack1 = Stack(capacity = 5)\n",
        "stack1.push(1)\n",
        "stack1.push(2)\n",
        "\n",
        "print(stack1.is_Full())\n",
        "\n",
        "print(stack1.top())\n",
        "\n",
        "print(stack1.pop())\n",
        "\n",
        "print(stack1.top())\n",
        "\n",
        "print(stack1.pop())\n",
        "\n",
        "print(stack1.is_Empty())"
      ],
      "metadata": {
        "colab": {
          "base_uri": "https://localhost:8080/"
        },
        "id": "PStFHHNT89Iq",
        "outputId": "02266dbe-402b-47f6-de0e-d4fe048a14a4"
      },
      "execution_count": 71,
      "outputs": [
        {
          "output_type": "stream",
          "name": "stdout",
          "text": [
            "False\n",
            "2\n",
            "2\n",
            "1\n",
            "1\n",
            "True\n"
          ]
        }
      ]
    },
    {
      "cell_type": "code",
      "source": [
        "#Q4\n",
        "class Queue:\n",
        "  def __init__(self, capacity):\n",
        "    self.capacity = capacity\n",
        "    self.queue = []\n",
        "  def is_Empty(self):\n",
        "    return len(self.queue) == 0\n",
        "\n",
        "  def is_Full(self):\n",
        "    return len(self.queue) == self.capacity\n",
        "\n",
        "  def enqueue(self, value):\n",
        "    self.queue.append(value)\n",
        "\n",
        "  def front(self):\n",
        "    return self.queue[0]\n",
        "\n",
        "  def dequeue(self):\n",
        "    front = self.front()\n",
        "    self.queue.remove(front)\n",
        "    return front\n",
        "\n",
        "\n",
        "\n"
      ],
      "metadata": {
        "id": "ImFI4lmH-DRH"
      },
      "execution_count": 72,
      "outputs": []
    },
    {
      "cell_type": "code",
      "source": [
        "queue1 = Queue ( capacity =5)\n",
        "\n",
        "queue1 . enqueue (1)\n",
        "queue1 . enqueue (2)\n",
        "\n",
        "print ( queue1 . is_Full () )\n",
        "\n",
        "print ( queue1 . front () )\n",
        "\n",
        "print ( queue1 . dequeue () )\n",
        "\n",
        "print ( queue1 . front () )\n",
        "\n",
        "print ( queue1 . dequeue () )\n",
        "\n",
        "print ( queue1 . is_Empty () )\n"
      ],
      "metadata": {
        "colab": {
          "base_uri": "https://localhost:8080/"
        },
        "id": "VhGEDq8zCoA8",
        "outputId": "2a0218ba-4b54-407d-8ebb-f4b1ee3b9ae5"
      },
      "execution_count": 74,
      "outputs": [
        {
          "output_type": "stream",
          "name": "stdout",
          "text": [
            "False\n",
            "1\n",
            "1\n",
            "2\n",
            "2\n",
            "True\n"
          ]
        }
      ]
    },
    {
      "cell_type": "code",
      "source": [
        "# Multiple choice\n",
        "#Q1\n"
      ],
      "metadata": {
        "id": "X3D_6oNQDBMg"
      },
      "execution_count": null,
      "outputs": []
    },
    {
      "cell_type": "code",
      "source": [
        "import torch\n",
        "import torch . nn as nn\n",
        "data = torch . Tensor ([1 , 2 , 3])\n",
        "softmax_function = nn . Softmax ( dim =0)\n",
        "output = softmax_function ( data )\n",
        "assert round ( output [0]. item () , 2) == 0.09\n",
        "output"
      ],
      "metadata": {
        "colab": {
          "base_uri": "https://localhost:8080/"
        },
        "id": "LUMFBiF8DKm_",
        "outputId": "55f62cdb-449c-4459-fad9-a05a312d7f87"
      },
      "execution_count": 75,
      "outputs": [
        {
          "output_type": "execute_result",
          "data": {
            "text/plain": [
              "tensor([0.0900, 0.2447, 0.6652])"
            ]
          },
          "metadata": {},
          "execution_count": 75
        }
      ]
    },
    {
      "cell_type": "code",
      "source": [
        "#Q2\n",
        "import torch\n",
        "import torch.nn as nn\n",
        "import math\n",
        "\n",
        "data = torch . Tensor ([5 , 2, 4])\n",
        "my_softmax = Softmax ()\n",
        "output = my_softmax ( data )\n",
        "assert round ( output [ -1]. item () , 2) == 0.26\n",
        "output"
      ],
      "metadata": {
        "colab": {
          "base_uri": "https://localhost:8080/"
        },
        "id": "dx6gKpvmEBEO",
        "outputId": "fcf4300f-67b2-483f-992c-986bdb449045"
      },
      "execution_count": 76,
      "outputs": [
        {
          "output_type": "execute_result",
          "data": {
            "text/plain": [
              "tensor([0.7054, 0.0351, 0.2595])"
            ]
          },
          "metadata": {},
          "execution_count": 76
        }
      ]
    },
    {
      "cell_type": "code",
      "source": [
        "#Q3\n",
        "import torch\n",
        "import torch.nn as nn\n",
        "import math\n",
        "\n",
        "data = torch . Tensor ([1 , 2, 300000000])\n",
        "my_softmax = Softmax ()\n",
        "output = my_softmax ( data )\n",
        "assert round ( output [0]. item () , 2) == 0.0\n",
        "output"
      ],
      "metadata": {
        "colab": {
          "base_uri": "https://localhost:8080/"
        },
        "id": "TKjbvRnbEhR0",
        "outputId": "bb9db89b-3e75-4f93-9dde-350de8d6ccee"
      },
      "execution_count": 80,
      "outputs": [
        {
          "output_type": "execute_result",
          "data": {
            "text/plain": [
              "tensor([0., 0., nan])"
            ]
          },
          "metadata": {},
          "execution_count": 80
        }
      ]
    },
    {
      "cell_type": "code",
      "source": [
        "#Q4\n",
        "import torch\n",
        "import torch .nn as nn\n",
        "\n",
        "class SoftmaxStable (nn. Module ):\n",
        "  def __init__ ( self ):\n",
        "    super (). __init__ ()\n",
        "\n",
        "  def forward (self , x):\n",
        "    x_max = torch .max(x, dim =0, keepdims = True )\n",
        "    x_exp = torch .exp(x - x_max . values )\n",
        "    partition = x_exp .sum (0, keepdims = True )\n",
        "    return x_exp / partition\n",
        "\n",
        "\n",
        "data = torch . Tensor ([1 , 2, 3])\n",
        "softmax_stable = SoftmaxStable ()\n",
        "output = softmax_stable ( data )\n",
        "assert round ( output [ -1]. item () , 2) == 0.67\n",
        "output"
      ],
      "metadata": {
        "colab": {
          "base_uri": "https://localhost:8080/"
        },
        "id": "ApvTNTZ7F6Bc",
        "outputId": "e82e750b-56ff-439a-bcaa-f257bb95cd23"
      },
      "execution_count": 81,
      "outputs": [
        {
          "output_type": "execute_result",
          "data": {
            "text/plain": [
              "tensor([0.0900, 0.2447, 0.6652])"
            ]
          },
          "metadata": {},
          "execution_count": 81
        }
      ]
    },
    {
      "cell_type": "code",
      "source": [
        "from abc import ABC, abstractclassmethod\n",
        "\n",
        "class Person(ABC):\n",
        "  def __init__(self, name, yob):\n",
        "    self.name = name\n",
        "    self.yob = yob\n",
        "\n",
        "  def get_yob(self):\n",
        "    return self.yob\n",
        "\n",
        "  @abstractclassmethod\n",
        "  def describe(self):\n",
        "    pass\n",
        "\n",
        "\n",
        "class student(Person):\n",
        "  def __init__(self, name, yob, grade):\n",
        "    super().__init__(name, yob)\n",
        "    self.grade = grade\n",
        "\n",
        "  def describe(self):\n",
        "    print(f\"Student - Name: {self.name} - YoB: {self.yob} - Grade: {self.grade}\")\n",
        "\n",
        "student1 = student ( name =\" studentZ2023 \", yob =2011 , grade =\"6\")\n",
        "assert student1.yob == 2011\n",
        "student1 . describe ()"
      ],
      "metadata": {
        "colab": {
          "base_uri": "https://localhost:8080/"
        },
        "id": "r8h7aQ4NGOAi",
        "outputId": "00660e4c-107e-4ffd-e1c4-60b532ade254"
      },
      "execution_count": 89,
      "outputs": [
        {
          "output_type": "stream",
          "name": "stdout",
          "text": [
            "Student - Name:  studentZ2023  - YoB: 2011 - Grade: 6\n"
          ]
        }
      ]
    },
    {
      "cell_type": "code",
      "source": [
        "#Q6\n",
        "from abc import ABC, abstractclassmethod\n",
        "\n",
        "class Person(ABC):\n",
        "  def __init__(self, name, yob):\n",
        "    self.name = name\n",
        "    self.yob = yob\n",
        "\n",
        "  def get_yob(self):\n",
        "    return self.yob\n",
        "\n",
        "  @abstractclassmethod\n",
        "  def describe(self):\n",
        "    pass\n",
        "\n",
        "\n",
        "class teacher(Person):\n",
        "  def __init__(self, name, yob, subject):\n",
        "    super().__init__(name, yob)\n",
        "    self.subject = subject\n",
        "\n",
        "  def describe(self):\n",
        "    print(f\"Teacher - Name: {self.name} - YoB: {self.yob} - Subject: {self.subject}\")"
      ],
      "metadata": {
        "id": "UNO2zNEbI4Ph"
      },
      "execution_count": 92,
      "outputs": []
    },
    {
      "cell_type": "code",
      "source": [
        "teacher1 = teacher ( name =\" teacherZ2023 \", yob =1991 , subject =\" History \")\n",
        "assert teacher1 .yob == 1991\n",
        "teacher1 . describe ()"
      ],
      "metadata": {
        "colab": {
          "base_uri": "https://localhost:8080/"
        },
        "id": "zOXKU2rFJTVp",
        "outputId": "9e98cfa1-c97b-410b-b9bf-958c6e735756"
      },
      "execution_count": 91,
      "outputs": [
        {
          "output_type": "stream",
          "name": "stdout",
          "text": [
            "Student - Name:  teacherZ2023  - YoB: 1991 - Subject:  History \n"
          ]
        }
      ]
    },
    {
      "cell_type": "code",
      "source": [
        "# Q7 apply for person \"Doctor\", It is the same way with two implements above"
      ],
      "metadata": {
        "id": "wkoYtIS8Jiw3"
      },
      "execution_count": null,
      "outputs": []
    },
    {
      "cell_type": "code",
      "source": [
        "# Q8\n",
        "class Student:\n",
        "  def __init__(self, name, year_of_birth, grade):\n",
        "    self.name = name\n",
        "    self.year_of_birth = year_of_birth\n",
        "    self.grade = grade\n",
        "  def describe(self):\n",
        "    print(f\"{self.name} - YoB: {self.year_of_birth} - Grade: {self.grade}\")\n",
        "\n",
        "class Teacher:\n",
        "  def __init__(self, name, year_of_birth, subject):\n",
        "    self.name = name\n",
        "    self.year_of_birth = year_of_birth\n",
        "    self.subject = subject\n",
        "  def describe(self):\n",
        "    print(f\"{self.name} - YoB: {self.year_of_birth} - Subject: {self.subject}\")\n",
        "\n",
        "class Doctor:\n",
        "  def __init__(self, name, year_of_birth, specialist):\n",
        "    self.name = name\n",
        "    self.year_of_birth = year_of_birth\n",
        "    self.specialist = specialist\n",
        "  def describe(self):\n",
        "    print(f\"{self.name} - YoB: {self.year_of_birth} - Specialist: {self.specialist}\")\n",
        "\n",
        "class Ward:\n",
        "  def __init__(self, name):\n",
        "    self.name = name\n",
        "    self.set_person = []\n",
        "\n",
        "  def add_person(self, person):\n",
        "    self.set_person.append(person)\n",
        "\n",
        "  def count_doctor(self):\n",
        "    count = 0\n",
        "    for person in self.set_person:\n",
        "     if isinstance(person, Doctor):\n",
        "       count += 1\n",
        "    return count\n",
        "\n",
        "  def sort_Age(self):\n",
        "    return  sorted(self.set_person, key = lambda person: person.year_of_birth, reverse = True)\n",
        "\n",
        "  def compute_avarage_Yob_Teacher(self):\n",
        "    sum = 0\n",
        "    count = 0\n",
        "    for person in self.set_person:\n",
        "      if isinstance(person, Teacher):\n",
        "        sum += person.year_of_birth\n",
        "        count += 1\n",
        "    return sum / count\n",
        "\n",
        "  def describe(self):\n",
        "    print(\"Ward name:\", self.name)\n",
        "    for person in self.set_person:\n",
        "        person.describe()\n",
        "\n",
        "ward1 = Ward ( name =\" Ward1 \")\n",
        "student1 = Student ( name =\" studentA \", year_of_birth =2010 , grade =\"7\")\n",
        "teacher1 = Teacher ( name =\" teacherA \", year_of_birth =1969 , subject =\" Math \")\n",
        "teacher2 = Teacher ( name =\" teacherB \", year_of_birth =1995 , subject =\" History \")\n",
        "doctor1 = Doctor ( name =\" doctorA \", year_of_birth =1945 , specialist =\" Endocrinologists \")\n",
        "\n",
        "print(ward1.count_doctor())\n",
        "\n",
        "\n",
        "doctor2 = Doctor ( name =\" doctorB \", year_of_birth =1975 , specialist =\" Cardiologists \")\n",
        "ward1 . add_person ( student1 )\n",
        "ward1 . add_person ( teacher1 )\n",
        "ward1 . add_person ( teacher2 )\n",
        "ward1 . add_person ( doctor1 )\n",
        "ward1 . add_person ( doctor2 )\n",
        "ward1 . count_doctor ()"
      ],
      "metadata": {
        "colab": {
          "base_uri": "https://localhost:8080/"
        },
        "id": "uGVbJomgLetl",
        "outputId": "0818c3a3-85e4-4ad2-b575-56a46c46c7bf"
      },
      "execution_count": 100,
      "outputs": [
        {
          "output_type": "stream",
          "name": "stdout",
          "text": [
            "0\n"
          ]
        },
        {
          "output_type": "execute_result",
          "data": {
            "text/plain": [
              "2"
            ]
          },
          "metadata": {},
          "execution_count": 100
        }
      ]
    },
    {
      "cell_type": "code",
      "source": [
        "# Q9\n",
        "stack2 = Stack(5)\n",
        "stack2.push(1)\n",
        "assert stack2.is_Full() == False\n",
        "stack2.push(2)\n",
        "print(stack2.is_Full())\n"
      ],
      "metadata": {
        "colab": {
          "base_uri": "https://localhost:8080/"
        },
        "id": "UM5rKLs0KXuo",
        "outputId": "a5e05378-241c-4a6b-9477-e2c3b46bf79a"
      },
      "execution_count": 102,
      "outputs": [
        {
          "output_type": "stream",
          "name": "stdout",
          "text": [
            "False\n"
          ]
        }
      ]
    },
    {
      "cell_type": "code",
      "source": [
        "# Q10\n",
        "stack3 = Stack ( capacity =5)\n",
        "stack3 . push (1)\n",
        "assert stack3 . is_Full () == False\n",
        "stack3 . push (2)\n",
        "print ( stack3 . top ())"
      ],
      "metadata": {
        "colab": {
          "base_uri": "https://localhost:8080/"
        },
        "id": "9GFA_pF0OurP",
        "outputId": "d07a5bec-0bfe-41ca-8863-8ed1c6669ae2"
      },
      "execution_count": 103,
      "outputs": [
        {
          "output_type": "stream",
          "name": "stdout",
          "text": [
            "2\n"
          ]
        }
      ]
    },
    {
      "cell_type": "code",
      "source": [
        "# Q11\n",
        "queue2 = Queue ( capacity =5)\n",
        "queue2 . enqueue (1)\n",
        "assert queue1 . is_Full () == False\n",
        "queue2 . enqueue (2)\n",
        "print ( queue2 . is_Full ())"
      ],
      "metadata": {
        "colab": {
          "base_uri": "https://localhost:8080/"
        },
        "id": "HyzPLfP5O_cy",
        "outputId": "9cbb8811-5c44-41ec-ba38-99ec5642b80e"
      },
      "execution_count": 105,
      "outputs": [
        {
          "output_type": "stream",
          "name": "stdout",
          "text": [
            "False\n"
          ]
        }
      ]
    },
    {
      "cell_type": "code",
      "source": [
        "queue3 = Queue ( capacity =5)\n",
        "queue3 . enqueue (1)\n",
        "assert queue3 . is_Full () == False\n",
        "queue3 . enqueue (2)\n",
        "print ( queue3 . front ())"
      ],
      "metadata": {
        "colab": {
          "base_uri": "https://localhost:8080/"
        },
        "id": "lzt1YL5kPVZx",
        "outputId": "2cb61eef-9c3f-447e-a05a-efc4a29ff2e3"
      },
      "execution_count": 106,
      "outputs": [
        {
          "output_type": "stream",
          "name": "stdout",
          "text": [
            "1\n"
          ]
        }
      ]
    }
  ]
}